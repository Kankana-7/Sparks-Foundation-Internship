{
 "cells": [
  {
   "cell_type": "markdown",
   "id": "884f766d",
   "metadata": {},
   "source": [
    "TASK 7: Stock Market Prediction using Numerical and Textual Analysis\n",
    "Importing all the required packages for this task"
   ]
  },
  {
   "cell_type": "code",
   "execution_count": 5,
   "id": "4da03b45",
   "metadata": {},
   "outputs": [
    {
     "name": "stderr",
     "output_type": "stream",
     "text": [
      "[nltk_data] Downloading package stopwords to C:\\Users\\Kankana\n",
      "[nltk_data]     Ghosh\\AppData\\Roaming\\nltk_data...\n",
      "[nltk_data]   Package stopwords is already up-to-date!\n",
      "[nltk_data] Downloading package vader_lexicon to C:\\Users\\Kankana\n",
      "[nltk_data]     Ghosh\\AppData\\Roaming\\nltk_data...\n",
      "[nltk_data]   Package vader_lexicon is already up-to-date!\n"
     ]
    }
   ],
   "source": [
    "import pandas as pd\n",
    "import numpy as np\n",
    "import os\n",
    "import matplotlib.pyplot as plt\n",
    "from statsmodels.tsa.stattools import adfuller, acf, pacf\n",
    "import time\n",
    "import warnings\n",
    "warnings.filterwarnings(\"ignore\")\n",
    "plt.style.use(style=\"seaborn\")\n",
    "%matplotlib inline\n",
    "import itertools\n",
    "import nltk\n",
    "import re\n",
    "from sklearn.preprocessing  import MinMaxScaler\n",
    "from nltk.corpus import stopwords\n",
    "nltk.download('stopwords')\n",
    "nltk.download('vader_lexicon')\n",
    "from textblob import TextBlob\n",
    "from nltk.sentiment.vader import SentimentIntensityAnalyzer\n",
    "from nltk.stem.porter import PorterStemmer\n",
    "ps = PorterStemmer()\n",
    "from nltk.tokenize import sent_tokenize, word_tokenize\n",
    "from sklearn.metrics import mean_squared_error\n",
    "from sklearn.model_selection import train_test_split\n",
    "from sklearn.ensemble import RandomForestRegressor, AdaBoostRegressor\n",
    "import xgboost \n",
    "import lightgbm "
   ]
  },
  {
   "cell_type": "code",
   "execution_count": 2,
   "id": "0ec88308",
   "metadata": {},
   "outputs": [
    {
     "name": "stdout",
     "output_type": "stream",
     "text": [
      "(735, 6)\n"
     ]
    },
    {
     "data": {
      "text/html": [
       "<div>\n",
       "<style scoped>\n",
       "    .dataframe tbody tr th:only-of-type {\n",
       "        vertical-align: middle;\n",
       "    }\n",
       "\n",
       "    .dataframe tbody tr th {\n",
       "        vertical-align: top;\n",
       "    }\n",
       "\n",
       "    .dataframe thead th {\n",
       "        text-align: right;\n",
       "    }\n",
       "</style>\n",
       "<table border=\"1\" class=\"dataframe\">\n",
       "  <thead>\n",
       "    <tr style=\"text-align: right;\">\n",
       "      <th></th>\n",
       "      <th>Open</th>\n",
       "      <th>High</th>\n",
       "      <th>Low</th>\n",
       "      <th>Close</th>\n",
       "      <th>Adj Close</th>\n",
       "      <th>Volume</th>\n",
       "    </tr>\n",
       "    <tr>\n",
       "      <th>Date</th>\n",
       "      <th></th>\n",
       "      <th></th>\n",
       "      <th></th>\n",
       "      <th></th>\n",
       "      <th></th>\n",
       "      <th></th>\n",
       "    </tr>\n",
       "  </thead>\n",
       "  <tbody>\n",
       "    <tr>\n",
       "      <th>2018-01-10</th>\n",
       "      <td>34,538.78</td>\n",
       "      <td>34,565.63</td>\n",
       "      <td>34,311.63</td>\n",
       "      <td>34433.07</td>\n",
       "      <td>34,433.07</td>\n",
       "      <td>8,500</td>\n",
       "    </tr>\n",
       "    <tr>\n",
       "      <th>2018-01-11</th>\n",
       "      <td>34,471.48</td>\n",
       "      <td>34,558.88</td>\n",
       "      <td>34,400.61</td>\n",
       "      <td>34503.49</td>\n",
       "      <td>34,503.49</td>\n",
       "      <td>8,100</td>\n",
       "    </tr>\n",
       "    <tr>\n",
       "      <th>2018-01-12</th>\n",
       "      <td>34,578.99</td>\n",
       "      <td>34,638.42</td>\n",
       "      <td>34,342.16</td>\n",
       "      <td>34592.39</td>\n",
       "      <td>34,592.39</td>\n",
       "      <td>7,800</td>\n",
       "    </tr>\n",
       "    <tr>\n",
       "      <th>2018-01-15</th>\n",
       "      <td>34,687.21</td>\n",
       "      <td>34,963.69</td>\n",
       "      <td>34,687.21</td>\n",
       "      <td>34843.51</td>\n",
       "      <td>34,843.51</td>\n",
       "      <td>14,600</td>\n",
       "    </tr>\n",
       "    <tr>\n",
       "      <th>2018-01-16</th>\n",
       "      <td>34,877.71</td>\n",
       "      <td>34,936.03</td>\n",
       "      <td>34,735.55</td>\n",
       "      <td>34771.05</td>\n",
       "      <td>34,771.05</td>\n",
       "      <td>53,600</td>\n",
       "    </tr>\n",
       "  </tbody>\n",
       "</table>\n",
       "</div>"
      ],
      "text/plain": [
       "                 Open       High        Low     Close  Adj Close  Volume\n",
       "Date                                                                    \n",
       "2018-01-10  34,538.78  34,565.63  34,311.63  34433.07  34,433.07   8,500\n",
       "2018-01-11  34,471.48  34,558.88  34,400.61  34503.49  34,503.49   8,100\n",
       "2018-01-12  34,578.99  34,638.42  34,342.16  34592.39  34,592.39   7,800\n",
       "2018-01-15  34,687.21  34,963.69  34,687.21  34843.51  34,843.51  14,600\n",
       "2018-01-16  34,877.71  34,936.03  34,735.55  34771.05  34,771.05  53,600"
      ]
     },
     "execution_count": 2,
     "metadata": {},
     "output_type": "execute_result"
    }
   ],
   "source": [
    "#Importing the stock dataset\n",
    "df=pd.read_csv(\"C:/Users/Kankana Ghosh/Desktop/BESEN.csv\",index_col='Date',parse_dates=True)\n",
    "print(df.shape)\n",
    "df.head(5)"
   ]
  },
  {
   "cell_type": "code",
   "execution_count": 3,
   "id": "be98583a",
   "metadata": {},
   "outputs": [
    {
     "data": {
      "text/html": [
       "<div>\n",
       "<style scoped>\n",
       "    .dataframe tbody tr th:only-of-type {\n",
       "        vertical-align: middle;\n",
       "    }\n",
       "\n",
       "    .dataframe tbody tr th {\n",
       "        vertical-align: top;\n",
       "    }\n",
       "\n",
       "    .dataframe thead th {\n",
       "        text-align: right;\n",
       "    }\n",
       "</style>\n",
       "<table border=\"1\" class=\"dataframe\">\n",
       "  <thead>\n",
       "    <tr style=\"text-align: right;\">\n",
       "      <th></th>\n",
       "      <th>Close</th>\n",
       "    </tr>\n",
       "  </thead>\n",
       "  <tbody>\n",
       "    <tr>\n",
       "      <th>count</th>\n",
       "      <td>735.000000</td>\n",
       "    </tr>\n",
       "    <tr>\n",
       "      <th>mean</th>\n",
       "      <td>37348.259061</td>\n",
       "    </tr>\n",
       "    <tr>\n",
       "      <th>std</th>\n",
       "      <td>3455.256729</td>\n",
       "    </tr>\n",
       "    <tr>\n",
       "      <th>min</th>\n",
       "      <td>25981.240000</td>\n",
       "    </tr>\n",
       "    <tr>\n",
       "      <th>25%</th>\n",
       "      <td>35203.970000</td>\n",
       "    </tr>\n",
       "    <tr>\n",
       "      <th>50%</th>\n",
       "      <td>37318.530000</td>\n",
       "    </tr>\n",
       "    <tr>\n",
       "      <th>75%</th>\n",
       "      <td>39127.000000</td>\n",
       "    </tr>\n",
       "    <tr>\n",
       "      <th>max</th>\n",
       "      <td>48782.510000</td>\n",
       "    </tr>\n",
       "  </tbody>\n",
       "</table>\n",
       "</div>"
      ],
      "text/plain": [
       "              Close\n",
       "count    735.000000\n",
       "mean   37348.259061\n",
       "std     3455.256729\n",
       "min    25981.240000\n",
       "25%    35203.970000\n",
       "50%    37318.530000\n",
       "75%    39127.000000\n",
       "max    48782.510000"
      ]
     },
     "execution_count": 3,
     "metadata": {},
     "output_type": "execute_result"
    }
   ],
   "source": [
    "#Creating a dataset containing the Close column of the above dataset\n",
    "df=df[[\"Close\"]].copy()\n",
    "df['Close']=pd.to_numeric(df['Close'])\n",
    "df.describe()"
   ]
  },
  {
   "cell_type": "code",
   "execution_count": 4,
   "id": "7d048da9",
   "metadata": {},
   "outputs": [
    {
     "data": {
      "text/plain": [
       "<AxesSubplot:xlabel='Date'>"
      ]
     },
     "execution_count": 4,
     "metadata": {},
     "output_type": "execute_result"
    },
    {
     "data": {
      "image/png": "[encoded data removed]",
      "text/plain": [
       "<Figure size 1152x288 with 1 Axes>"
      ]
     },
     "metadata": {
      "needs_background": "light"
     },
     "output_type": "display_data"
    }
   ],
   "source": [
    "#Ploting the Close column to see the trend\n",
    "df.index=df.index[0:len(df)]\n",
    "df['Close'].plot(figsize=(16,4))"
   ]
  },
  {
   "cell_type": "markdown",
   "id": "7108c828",
   "metadata": {},
   "source": [
    "Fitting an ARIMA Model to the dataset"
   ]
  },
  {
   "cell_type": "code",
   "execution_count": null,
   "id": "216ec407",
   "metadata": {},
   "outputs": [],
   "source": [
    "#Checking if the series is stationary\n",
    "from statsmodels.tsa.stattools import adfuller\n",
    "def ad_test(dataset):\n",
    "    result=adfuller(dataset,autolag='AIC')\n",
    "    print(f\"ADF Statistic:{result[0]}\")\n",
    "    print(f\"P-Value:{result[1]}\")\n",
    "    print(f\"Num of Lags:{result[2]}\")\n",
    "    print(f\"Num of observations used for ADF regression and critical value calculation:{result[3]}\")\n",
    "    print(f\"Critical Values:\")\n",
    "    for key,val in result[4].items():\n",
    "        print(\"\\t\",key,\":\",val)"
   ]
  },
  {
   "cell_type": "code",
   "execution_count": 6,
   "id": "7ba8cc16",
   "metadata": {},
   "outputs": [
    {
     "name": "stdout",
     "output_type": "stream",
     "text": [
      "ADF Statistic:-1.188202480977596\n",
      "P-Value:0.6786500062031668\n",
      "Num of Lags:10\n",
      "Num of observations used for ADF regression and critical value calculation:724\n",
      "Critical Values:\n",
      "\t 1% : -3.4394144152232995\n",
      "\t 5% : -2.8655403100177566\n",
      "\t 10% : -2.5689002207655443\n"
     ]
    }
   ],
   "source": [
    "ad_test(df['Close'])"
   ]
  },
  {
   "cell_type": "markdown",
   "id": "32221927",
   "metadata": {},
   "source": [
    "Let us consider H0: The dataset is not stationary against H1: The dataset is stationary.\n",
    "\n",
    "Here, we see that the P-Value is greater than 0.05 so the null hypothesis is accepted and hence we conclude that the dataset is not sationary."
   ]
  },
  {
   "cell_type": "code",
   "execution_count": 7,
   "id": "ec275c4d",
   "metadata": {},
   "outputs": [
    {
     "data": {
      "image/png": "[encoded data removed]",
      "text/plain": [
       "<Figure size 1152x288 with 2 Axes>"
      ]
     },
     "metadata": {
      "needs_background": "light"
     },
     "output_type": "display_data"
    }
   ],
   "source": [
    "from statsmodels.graphics.tsaplots import plot_acf\n",
    "fig,(ax1,ax2)=plt.subplots(1,2,figsize=(16,4))\n",
    "ax1.plot(df.Close)\n",
    "ax1.set_title(\"Original\")\n",
    "plot_acf(df.Close,ax=ax2);"
   ]
  },
  {
   "cell_type": "code",
   "execution_count": 8,
   "id": "ee723b3f",
   "metadata": {},
   "outputs": [
    {
     "data": {
      "image/png": "[encoded data removed]",
      "text/plain": [
       "<Figure size 1152x288 with 2 Axes>"
      ]
     },
     "metadata": {
      "needs_background": "light"
     },
     "output_type": "display_data"
    }
   ],
   "source": [
    "#Calculating the d, i.e., the order of difference,the number of nonseasonal differences needed for stationarity\n",
    "diff=df.Close.diff().dropna()\n",
    "fig,(ax1,ax2)=plt.subplots(1,2,figsize=(16,4))\n",
    "ax1.plot(diff)\n",
    "ax1.set_title(\"Difference Once\")\n",
    "plot_acf(diff,ax=ax2);"
   ]
  },
  {
   "cell_type": "code",
   "execution_count": 9,
   "id": "aa61dbe7",
   "metadata": {},
   "outputs": [
    {
     "data": {
      "image/png": "[encoded data removed]",
      "text/plain": [
       "<Figure size 1152x288 with 2 Axes>"
      ]
     },
     "metadata": {
      "needs_background": "light"
     },
     "output_type": "display_data"
    }
   ],
   "source": [
    "diff=df.Close.diff().diff().dropna()\n",
    "fig,(ax1,ax2)=plt.subplots(1,2,figsize=(16,4))\n",
    "ax1.plot(diff)\n",
    "ax1.set_title(\"Difference Twice\")\n",
    "plot_acf(diff,ax=ax2);"
   ]
  },
  {
   "cell_type": "markdown",
   "id": "155005a2",
   "metadata": {},
   "source": [
    "Here, we see that when d=2 the negative magnitude of the autocorrelation increases.Hence,we stop the difference calculation at \n",
    "second order and the value of d=1\n"
   ]
  },
  {
   "cell_type": "code",
   "execution_count": 10,
   "id": "b83f1347",
   "metadata": {},
   "outputs": [
    {
     "data": {
      "text/plain": [
       "1"
      ]
     },
     "execution_count": 10,
     "metadata": {},
     "output_type": "execute_result"
    }
   ],
   "source": [
    "#We can also find the value of d using pmdarima package\n",
    "from pmdarima.arima.utils import ndiffs\n",
    "ndiffs(df.Close,test=\"adf\")"
   ]
  },
  {
   "cell_type": "code",
   "execution_count": 11,
   "id": "ce400e43",
   "metadata": {},
   "outputs": [
    {
     "data": {
      "image/png": "[encoded data removed]",
      "text/plain": [
       "<Figure size 1152x288 with 2 Axes>"
      ]
     },
     "metadata": {
      "needs_background": "light"
     },
     "output_type": "display_data"
    }
   ],
   "source": [
    "#Calculating the of p,i.e.,is the number of autoregressive terms.\n",
    "from statsmodels.graphics.tsaplots import plot_pacf\n",
    "diff=df.Close.diff().dropna()\n",
    "fig,(ax1,ax2)=plt.subplots(1,2,figsize=(16,4))\n",
    "ax1.plot(diff)\n",
    "ax1.set_title(\"Difference Once\")\n",
    "ax2.set_ylim(0,1)\n",
    "plot_pacf(diff,ax=ax2);"
   ]
  },
  {
   "cell_type": "code",
   "execution_count": 12,
   "id": "515e8006",
   "metadata": {},
   "outputs": [
    {
     "data": {
      "image/png": "[encoded data removed]",
      "text/plain": [
       "<Figure size 1152x288 with 2 Axes>"
      ]
     },
     "metadata": {
      "needs_background": "light"
     },
     "output_type": "display_data"
    }
   ],
   "source": [
    "#Calculating the value of q,i.e.,the number of lagged forecast errors in the prediction equation.\n",
    "diff=df.Close.diff().dropna()\n",
    "fig,(ax1,ax2)=plt.subplots(1,2,figsize=(16,4))\n",
    "ax1.plot(diff)\n",
    "ax1.set_title(\"Difference Once\")\n",
    "ax2.set_ylim(0,1)\n",
    "plot_acf(diff,ax=ax2);"
   ]
  },
  {
   "cell_type": "code",
   "execution_count": 13,
   "id": "e9f19142",
   "metadata": {},
   "outputs": [
    {
     "name": "stdout",
     "output_type": "stream",
     "text": [
      "Performing stepwise search to minimize aic\n",
      " ARIMA(2,1,2)(0,0,0)[0] intercept   : AIC=11086.650, Time=1.01 sec\n",
      " ARIMA(0,1,0)(0,0,0)[0] intercept   : AIC=11089.649, Time=0.04 sec\n",
      " ARIMA(1,1,0)(0,0,0)[0] intercept   : AIC=11089.305, Time=0.06 sec\n",
      " ARIMA(0,1,1)(0,0,0)[0] intercept   : AIC=11089.597, Time=0.08 sec\n",
      " ARIMA(0,1,0)(0,0,0)[0]             : AIC=11088.970, Time=0.01 sec\n",
      " ARIMA(1,1,2)(0,0,0)[0] intercept   : AIC=11084.845, Time=0.40 sec\n",
      " ARIMA(0,1,2)(0,0,0)[0] intercept   : AIC=11087.287, Time=0.09 sec\n",
      " ARIMA(1,1,1)(0,0,0)[0] intercept   : AIC=11090.106, Time=0.33 sec\n",
      " ARIMA(1,1,3)(0,0,0)[0] intercept   : AIC=11086.870, Time=0.31 sec\n",
      " ARIMA(0,1,3)(0,0,0)[0] intercept   : AIC=11088.916, Time=0.11 sec\n",
      " ARIMA(2,1,1)(0,0,0)[0] intercept   : AIC=11084.675, Time=0.49 sec\n",
      " ARIMA(2,1,0)(0,0,0)[0] intercept   : AIC=11087.337, Time=0.09 sec\n",
      " ARIMA(3,1,1)(0,0,0)[0] intercept   : AIC=11089.221, Time=0.32 sec\n",
      " ARIMA(3,1,0)(0,0,0)[0] intercept   : AIC=11088.062, Time=0.12 sec\n",
      " ARIMA(3,1,2)(0,0,0)[0] intercept   : AIC=11085.691, Time=0.51 sec\n",
      " ARIMA(2,1,1)(0,0,0)[0]             : AIC=11083.402, Time=0.13 sec\n",
      " ARIMA(1,1,1)(0,0,0)[0]             : AIC=11089.500, Time=0.14 sec\n",
      " ARIMA(2,1,0)(0,0,0)[0]             : AIC=11086.594, Time=0.04 sec\n",
      " ARIMA(3,1,1)(0,0,0)[0]             : AIC=11085.376, Time=0.21 sec\n",
      " ARIMA(2,1,2)(0,0,0)[0]             : AIC=11085.352, Time=0.19 sec\n",
      " ARIMA(1,1,0)(0,0,0)[0]             : AIC=11088.816, Time=0.04 sec\n",
      " ARIMA(1,1,2)(0,0,0)[0]             : AIC=11083.568, Time=0.15 sec\n",
      " ARIMA(3,1,0)(0,0,0)[0]             : AIC=11087.188, Time=0.07 sec\n",
      " ARIMA(3,1,2)(0,0,0)[0]             : AIC=11083.835, Time=0.60 sec\n",
      "\n",
      "Best model:  ARIMA(2,1,1)(0,0,0)[0]          \n",
      "Total fit time: 5.563 seconds\n"
     ]
    }
   ],
   "source": [
    "#We can also calculate the value of p,q,d using pmdarima package\n",
    "from pmdarima import auto_arima\n",
    "stepwise_fit=auto_arima(df['Close'],trace=True,suppress_warnings=True)"
   ]
  },
  {
   "cell_type": "code",
   "execution_count": 14,
   "id": "75af88df",
   "metadata": {},
   "outputs": [
    {
     "data": {
      "text/html": [
       "<table class=\"simpletable\">\n",
       "<caption>SARIMAX Results</caption>\n",
       "<tr>\n",
       "  <th>Dep. Variable:</th>           <td>y</td>        <th>  No. Observations:  </th>    <td>735</td>   \n",
       "</tr>\n",
       "<tr>\n",
       "  <th>Model:</th>           <td>SARIMAX(2, 1, 1)</td> <th>  Log Likelihood     </th> <td>-5537.701</td>\n",
       "</tr>\n",
       "<tr>\n",
       "  <th>Date:</th>            <td>Thu, 12 Jan 2023</td> <th>  AIC                </th> <td>11083.402</td>\n",
       "</tr>\n",
       "<tr>\n",
       "  <th>Time:</th>                <td>12:34:38</td>     <th>  BIC                </th> <td>11101.796</td>\n",
       "</tr>\n",
       "<tr>\n",
       "  <th>Sample:</th>                  <td>0</td>        <th>  HQIC               </th> <td>11090.497</td>\n",
       "</tr>\n",
       "<tr>\n",
       "  <th></th>                      <td> - 735</td>      <th>                     </th>     <td> </td>    \n",
       "</tr>\n",
       "<tr>\n",
       "  <th>Covariance Type:</th>        <td>opg</td>       <th>                     </th>     <td> </td>    \n",
       "</tr>\n",
       "</table>\n",
       "<table class=\"simpletable\">\n",
       "<tr>\n",
       "     <td></td>       <th>coef</th>     <th>std err</th>      <th>z</th>      <th>P>|z|</th>  <th>[0.025</th>    <th>0.975]</th>  \n",
       "</tr>\n",
       "<tr>\n",
       "  <th>ar.L1</th>  <td>    0.7223</td> <td>    0.085</td> <td>    8.454</td> <td> 0.000</td> <td>    0.555</td> <td>    0.890</td>\n",
       "</tr>\n",
       "<tr>\n",
       "  <th>ar.L2</th>  <td>    0.1019</td> <td>    0.019</td> <td>    5.308</td> <td> 0.000</td> <td>    0.064</td> <td>    0.140</td>\n",
       "</tr>\n",
       "<tr>\n",
       "  <th>ma.L1</th>  <td>   -0.7766</td> <td>    0.082</td> <td>   -9.494</td> <td> 0.000</td> <td>   -0.937</td> <td>   -0.616</td>\n",
       "</tr>\n",
       "<tr>\n",
       "  <th>sigma2</th> <td> 2.111e+05</td> <td> 4954.394</td> <td>   42.600</td> <td> 0.000</td> <td> 2.01e+05</td> <td> 2.21e+05</td>\n",
       "</tr>\n",
       "</table>\n",
       "<table class=\"simpletable\">\n",
       "<tr>\n",
       "  <th>Ljung-Box (L1) (Q):</th>     <td>0.16</td> <th>  Jarque-Bera (JB):  </th> <td>3743.71</td>\n",
       "</tr>\n",
       "<tr>\n",
       "  <th>Prob(Q):</th>                <td>0.69</td> <th>  Prob(JB):          </th>  <td>0.00</td>  \n",
       "</tr>\n",
       "<tr>\n",
       "  <th>Heteroskedasticity (H):</th> <td>5.41</td> <th>  Skew:              </th>  <td>-0.87</td> \n",
       "</tr>\n",
       "<tr>\n",
       "  <th>Prob(H) (two-sided):</th>    <td>0.00</td> <th>  Kurtosis:          </th>  <td>13.93</td> \n",
       "</tr>\n",
       "</table><br/><br/>Warnings:<br/>[1] Covariance matrix calculated using the outer product of gradients (complex-step)."
      ],
      "text/plain": [
       "<class 'statsmodels.iolib.summary.Summary'>\n",
       "\"\"\"\n",
       "                               SARIMAX Results                                \n",
       "==============================================================================\n",
       "Dep. Variable:                      y   No. Observations:                  735\n",
       "Model:               SARIMAX(2, 1, 1)   Log Likelihood               -5537.701\n",
       "Date:                Thu, 12 Jan 2023   AIC                          11083.402\n",
       "Time:                        12:34:38   BIC                          11101.796\n",
       "Sample:                             0   HQIC                         11090.497\n",
       "                                - 735                                         \n",
       "Covariance Type:                  opg                                         \n",
       "==============================================================================\n",
       "                 coef    std err          z      P>|z|      [0.025      0.975]\n",
       "------------------------------------------------------------------------------\n",
       "ar.L1          0.7223      0.085      8.454      0.000       0.555       0.890\n",
       "ar.L2          0.1019      0.019      5.308      0.000       0.064       0.140\n",
       "ma.L1         -0.7766      0.082     -9.494      0.000      -0.937      -0.616\n",
       "sigma2      2.111e+05   4954.394     42.600      0.000    2.01e+05    2.21e+05\n",
       "===================================================================================\n",
       "Ljung-Box (L1) (Q):                   0.16   Jarque-Bera (JB):              3743.71\n",
       "Prob(Q):                              0.69   Prob(JB):                         0.00\n",
       "Heteroskedasticity (H):               5.41   Skew:                            -0.87\n",
       "Prob(H) (two-sided):                  0.00   Kurtosis:                        13.93\n",
       "===================================================================================\n",
       "\n",
       "Warnings:\n",
       "[1] Covariance matrix calculated using the outer product of gradients (complex-step).\n",
       "\"\"\""
      ]
     },
     "execution_count": 14,
     "metadata": {},
     "output_type": "execute_result"
    }
   ],
   "source": [
    "stepwise_fit.summary()"
   ]
  },
  {
   "cell_type": "code",
   "execution_count": 15,
   "id": "458aab41",
   "metadata": {},
   "outputs": [],
   "source": [
    "#Fitting the ARIMA Model\n",
    "from statsmodels.tsa.arima.model import ARIMA\n",
    "#ARIMA Model\n",
    "warnings.filterwarnings(\"ignore\")\n",
    "model=ARIMA(df.Close,order=(2,1,1))\n",
    "result=model.fit()"
   ]
  },
  {
   "cell_type": "code",
   "execution_count": 16,
   "id": "a6db3abd",
   "metadata": {},
   "outputs": [
    {
     "name": "stdout",
     "output_type": "stream",
     "text": [
      "                               SARIMAX Results                                \n",
      "==============================================================================\n",
      "Dep. Variable:                  Close   No. Observations:                  735\n",
      "Model:                 ARIMA(2, 1, 1)   Log Likelihood               -5537.701\n",
      "Date:                Thu, 12 Jan 2023   AIC                          11083.402\n",
      "Time:                        12:34:38   BIC                          11101.796\n",
      "Sample:                             0   HQIC                         11090.497\n",
      "                                - 735                                         \n",
      "Covariance Type:                  opg                                         \n",
      "==============================================================================\n",
      "                 coef    std err          z      P>|z|      [0.025      0.975]\n",
      "------------------------------------------------------------------------------\n",
      "ar.L1          0.7223      0.085      8.454      0.000       0.555       0.890\n",
      "ar.L2          0.1019      0.019      5.308      0.000       0.064       0.140\n",
      "ma.L1         -0.7766      0.082     -9.494      0.000      -0.937      -0.616\n",
      "sigma2      2.111e+05   4954.394     42.600      0.000    2.01e+05    2.21e+05\n",
      "===================================================================================\n",
      "Ljung-Box (L1) (Q):                   0.16   Jarque-Bera (JB):              3743.71\n",
      "Prob(Q):                              0.69   Prob(JB):                         0.00\n",
      "Heteroskedasticity (H):               5.41   Skew:                            -0.87\n",
      "Prob(H) (two-sided):                  0.00   Kurtosis:                        13.93\n",
      "===================================================================================\n",
      "\n",
      "Warnings:\n",
      "[1] Covariance matrix calculated using the outer product of gradients (complex-step).\n"
     ]
    }
   ],
   "source": [
    "print(result.summary())"
   ]
  },
  {
   "cell_type": "code",
   "execution_count": 17,
   "id": "336a7ff3",
   "metadata": {},
   "outputs": [
    {
     "data": {
      "text/plain": [
       "(array([1.94365379e-04, 6.83679326e-05, 0.00000000e+00, 0.00000000e+00,\n",
       "        0.00000000e+00, 0.00000000e+00, 0.00000000e+00, 0.00000000e+00,\n",
       "        0.00000000e+00, 3.57947291e-07]),\n",
       " array([-3576.5546657 ,   224.40780087,  4025.37026744,  7826.33273401,\n",
       "        11627.29520058, 15428.25766715, 19229.22013372, 23030.18260029,\n",
       "        26831.14506686, 30632.10753343, 34433.07      ]),\n",
       " <BarContainer object of 10 artists>)"
      ]
     },
     "execution_count": 17,
     "metadata": {},
     "output_type": "execute_result"
    },
    {
     "data": {
      "image/png": "[encoded data removed]",
      "text/plain": [
       "<Figure size 1152x288 with 2 Axes>"
      ]
     },
     "metadata": {
      "needs_background": "light"
     },
     "output_type": "display_data"
    }
   ],
   "source": [
    "#Plot residual errors\n",
    "residuals=pd.DataFrame(result.resid)\n",
    "fig,(ax1,ax2)=plt.subplots(1,2,figsize=(16,4))\n",
    "ax1.plot(residuals)\n",
    "ax2.hist(residuals,density=True)"
   ]
  },
  {
   "cell_type": "code",
   "execution_count": 18,
   "id": "3eb4eeac",
   "metadata": {},
   "outputs": [
    {
     "name": "stdout",
     "output_type": "stream",
     "text": [
      "(735, 1)\n",
      "(705, 1) (30, 1)\n"
     ]
    }
   ],
   "source": [
    "from statsmodels.tsa.arima_model import ARIMA\n",
    "print(df.shape)\n",
    "train=df.iloc[:-30]\n",
    "test=df.iloc[-30:]\n",
    "print(train.shape,test.shape)"
   ]
  },
  {
   "cell_type": "code",
   "execution_count": 19,
   "id": "4c2811e1",
   "metadata": {},
   "outputs": [
    {
     "data": {
      "image/png": "[encoded data removed]",
      "text/plain": [
       "<Figure size 432x288 with 1 Axes>"
      ]
     },
     "metadata": {
      "needs_background": "light"
     },
     "output_type": "display_data"
    },
    {
     "data": {
      "image/png": "[encoded data removed]",
      "text/plain": [
       "<Figure size 432x288 with 1 Axes>"
      ]
     },
     "metadata": {
      "needs_background": "light"
     },
     "output_type": "display_data"
    },
    {
     "name": "stdout",
     "output_type": "stream",
     "text": [
      "                  0\n",
      "count    735.000000\n",
      "mean      60.580750\n",
      "std     1349.391284\n",
      "min    -3576.554666\n",
      "25%     -197.054677\n",
      "50%       24.118160\n",
      "75%      242.851327\n",
      "max    34433.070000\n"
     ]
    }
   ],
   "source": [
    "residuals = pd.DataFrame(result.resid)\n",
    "residuals.plot()\n",
    "plt.show()\n",
    "# density plot of residuals\n",
    "residuals.plot(kind='kde')\n",
    "plt.show()\n",
    "# summary stats of residuals\n",
    "print(residuals.describe())"
   ]
  },
  {
   "cell_type": "code",
   "execution_count": 20,
   "id": "2007911d",
   "metadata": {},
   "outputs": [
    {
     "data": {
      "text/plain": [
       "Date\n",
       "2018-01-11    34131.880084\n",
       "2018-01-12    34885.767270\n",
       "2018-01-15    34889.490381\n",
       "2018-01-16    35069.463910\n",
       "2018-01-17    34975.284673\n",
       "2018-01-18    35216.331306\n",
       "2018-01-19    35386.777913\n",
       "2018-01-22    35614.423820\n",
       "2018-01-23    35887.996231\n",
       "2018-01-24    36220.533635\n",
       "2018-01-25    36257.874330\n",
       "2018-01-29    36133.413365\n",
       "2018-01-30    36323.711431\n",
       "2018-01-31    36102.435136\n",
       "2018-02-01    35996.675714\n",
       "2018-02-02    35927.411352\n",
       "2018-02-05    35122.551187\n",
       "2018-02-06    34731.703764\n",
       "2018-02-07    34175.106775\n",
       "2018-02-08    34015.475971\n",
       "2018-02-09    34331.446238\n",
       "2018-02-12    33998.119180\n",
       "2018-02-14    34236.994548\n",
       "2018-02-15    34144.546368\n",
       "2018-02-16    34266.192311\n",
       "2018-02-19    34016.473453\n",
       "2018-02-20    33762.701254\n",
       "2018-02-21    33674.097863\n",
       "2018-02-22    33807.034707\n",
       "2018-02-23    33805.901667\n",
       "Name: predicted_mean, dtype: float64"
      ]
     },
     "execution_count": 20,
     "metadata": {},
     "output_type": "execute_result"
    }
   ],
   "source": [
    "#Actual vs Fitted\n",
    "result.index=df.index[-30:]\n",
    "result.predict(start=1,end=30,dynamic=False)"
   ]
  },
  {
   "cell_type": "code",
   "execution_count": 21,
   "id": "4d06e0ff",
   "metadata": {},
   "outputs": [
    {
     "name": "stdout",
     "output_type": "stream",
     "text": [
      "(735, 1)\n",
      "(705, 1) (30, 1)\n"
     ]
    }
   ],
   "source": [
    "#Dividing the dataset into train and test\n",
    "from statsmodels.tsa.arima.model import ARIMA\n",
    "print(df.shape)\n",
    "train=df.iloc[:-30]\n",
    "test=df.iloc[-30:]\n",
    "print(train.shape,test.shape)"
   ]
  },
  {
   "cell_type": "code",
   "execution_count": 22,
   "id": "8dcbc53e",
   "metadata": {},
   "outputs": [
    {
     "name": "stdout",
     "output_type": "stream",
     "text": [
      "Date\n",
      "2020-11-26    43923.168022\n",
      "2020-11-27    44239.283386\n",
      "2020-12-01    44183.809292\n",
      "2020-12-02    44643.220448\n",
      "2020-12-03    44662.131644\n",
      "2020-12-04    44662.286901\n",
      "2020-12-07    45079.772630\n",
      "2020-12-08    45453.818635\n",
      "2020-12-09    45654.910590\n",
      "2020-12-10    46131.144433\n",
      "2020-12-11    46039.609410\n",
      "2020-12-14    46138.730923\n",
      "2020-12-15    46290.098051\n",
      "2020-12-16    46306.840278\n",
      "2020-12-17    46679.451635\n",
      "2020-12-18    46929.373096\n",
      "2020-12-21    47010.002500\n",
      "2020-12-22    45675.867592\n",
      "2020-12-23    45933.375039\n",
      "2020-12-24    46409.616888\n",
      "2020-12-28    46962.527407\n",
      "2020-12-29    47378.496627\n",
      "2020-12-30    47656.963530\n",
      "2020-12-31    47799.501154\n",
      "2021-01-01    47806.003641\n",
      "2021-01-04    47905.569426\n",
      "2021-01-05    48200.482691\n",
      "2021-01-06    48473.368658\n",
      "2021-01-07    48242.631828\n",
      "2021-01-08    48124.080708\n",
      "Name: predicted_mean, dtype: float64\n"
     ]
    }
   ],
   "source": [
    "start=len(train)\n",
    "end=len(train)+len(test)-1\n",
    "pred=result.predict(start=start,end=end,dynamic=False)\n",
    "pred.index=df.index[start:end+1]\n",
    "print(pred)"
   ]
  },
  {
   "cell_type": "code",
   "execution_count": 23,
   "id": "6304082b",
   "metadata": {},
   "outputs": [
    {
     "data": {
      "text/plain": [
       "<AxesSubplot:xlabel='Date'>"
      ]
     },
     "execution_count": 23,
     "metadata": {},
     "output_type": "execute_result"
    },
    {
     "data": {
      "image/png": "[encoded data removed]",
      "text/plain": [
       "<Figure size 432x288 with 1 Axes>"
      ]
     },
     "metadata": {
      "needs_background": "light"
     },
     "output_type": "display_data"
    }
   ],
   "source": [
    "#Plotting the test data\n",
    "pred.plot(legend=True)\n",
    "test.index=df.index[-30:]\n",
    "test['Close'].plot(legend=True)"
   ]
  },
  {
   "cell_type": "code",
   "execution_count": 24,
   "id": "6ea14d18",
   "metadata": {},
   "outputs": [
    {
     "data": {
      "text/plain": [
       "46486.77766666667"
      ]
     },
     "execution_count": 24,
     "metadata": {},
     "output_type": "execute_result"
    }
   ],
   "source": [
    "test['Close'].mean()"
   ]
  },
  {
   "cell_type": "code",
   "execution_count": 25,
   "id": "34b485ac",
   "metadata": {},
   "outputs": [
    {
     "name": "stdout",
     "output_type": "stream",
     "text": [
      "399.69334047349656\n"
     ]
    }
   ],
   "source": [
    "from sklearn.metrics import mean_squared_error\n",
    "from math import sqrt\n",
    "rmse=sqrt(mean_squared_error(pred,test['Close']))\n",
    "print(rmse)"
   ]
  },
  {
   "cell_type": "markdown",
   "id": "adf48c37",
   "metadata": {},
   "source": [
    "Here, we can conclude that the ARIMA Model is quite a good fit because the rmse is quite low compared to the mean."
   ]
  },
  {
   "cell_type": "code",
   "execution_count": 26,
   "id": "7ec1ba86",
   "metadata": {},
   "outputs": [
    {
     "data": {
      "text/html": [
       "<div>\n",
       "<style scoped>\n",
       "    .dataframe tbody tr th:only-of-type {\n",
       "        vertical-align: middle;\n",
       "    }\n",
       "\n",
       "    .dataframe tbody tr th {\n",
       "        vertical-align: top;\n",
       "    }\n",
       "\n",
       "    .dataframe thead th {\n",
       "        text-align: right;\n",
       "    }\n",
       "</style>\n",
       "<table border=\"1\" class=\"dataframe\">\n",
       "  <thead>\n",
       "    <tr style=\"text-align: right;\">\n",
       "      <th></th>\n",
       "      <th>Close</th>\n",
       "    </tr>\n",
       "    <tr>\n",
       "      <th>Date</th>\n",
       "      <th></th>\n",
       "    </tr>\n",
       "  </thead>\n",
       "  <tbody>\n",
       "    <tr>\n",
       "      <th>2018-01-10</th>\n",
       "      <td>34433.07</td>\n",
       "    </tr>\n",
       "    <tr>\n",
       "      <th>2018-01-11</th>\n",
       "      <td>34503.49</td>\n",
       "    </tr>\n",
       "    <tr>\n",
       "      <th>2018-01-12</th>\n",
       "      <td>34592.39</td>\n",
       "    </tr>\n",
       "    <tr>\n",
       "      <th>2018-01-15</th>\n",
       "      <td>34843.51</td>\n",
       "    </tr>\n",
       "    <tr>\n",
       "      <th>2018-01-16</th>\n",
       "      <td>34771.05</td>\n",
       "    </tr>\n",
       "  </tbody>\n",
       "</table>\n",
       "</div>"
      ],
      "text/plain": [
       "               Close\n",
       "Date                \n",
       "2018-01-10  34433.07\n",
       "2018-01-11  34503.49\n",
       "2018-01-12  34592.39\n",
       "2018-01-15  34843.51\n",
       "2018-01-16  34771.05"
      ]
     },
     "execution_count": 26,
     "metadata": {},
     "output_type": "execute_result"
    }
   ],
   "source": [
    "model2=ARIMA(df['Close'],order=(2,1,1))\n",
    "model2=model2.fit()\n",
    "df.head()"
   ]
  },
  {
   "cell_type": "code",
   "execution_count": 27,
   "id": "b1633bc0",
   "metadata": {},
   "outputs": [],
   "source": [
    "#Predicting the stocks of the next four months using the previous data by ARIMA Model.\n",
    "index_future_dates=pd.date_range(start='2021-01-11',end='2021-05-31')\n",
    "pred=model2.predict(start=len(df),end=len(df)+140,dynamic=False).rename('ARIMA Predictions')\n",
    "pred.index=index_future_dates"
   ]
  },
  {
   "cell_type": "code",
   "execution_count": 28,
   "id": "0ddc3403",
   "metadata": {},
   "outputs": [
    {
     "data": {
      "text/plain": [
       "<AxesSubplot:>"
      ]
     },
     "execution_count": 28,
     "metadata": {},
     "output_type": "execute_result"
    },
    {
     "data": {
      "image/png": "[encoded data removed]",
      "text/plain": [
       "<Figure size 1152x288 with 1 Axes>"
      ]
     },
     "metadata": {
      "needs_background": "light"
     },
     "output_type": "display_data"
    }
   ],
   "source": [
    "pred.plot(figsize=(16,4))"
   ]
  },
  {
   "cell_type": "code",
   "execution_count": 29,
   "id": "3cbc2f69",
   "metadata": {},
   "outputs": [
    {
     "data": {
      "image/png": "[encoded data removed]",
      "text/plain": [
       "<Figure size 432x288 with 1 Axes>"
      ]
     },
     "metadata": {
      "needs_background": "light"
     },
     "output_type": "display_data"
    }
   ],
   "source": [
    "plt.plot(train, label='Train',color=\"blue\")\n",
    "plt.plot(test, label='Test',color=\"blue\")\n",
    "plt.plot(pred, label='Prediction',color=\"red\")\n",
    "plt.title('BSESN Stock Price Prediction')\n",
    "plt.xlabel('Time')\n",
    "plt.ylabel('Actual Stock Price')\n",
    "     \n",
    "figsize=(16,4)"
   ]
  },
  {
   "cell_type": "markdown",
   "id": "23b737c4",
   "metadata": {},
   "source": [
    "Here, the red line is the prediction for the four months that comes roughly between 48750 to 49050."
   ]
  },
  {
   "cell_type": "code",
   "execution_count": 30,
   "id": "a402191c",
   "metadata": {},
   "outputs": [
    {
     "data": {
      "text/plain": [
       "[<matplotlib.lines.Line2D at 0x26c85251a00>]"
      ]
     },
     "execution_count": 30,
     "metadata": {},
     "output_type": "execute_result"
    },
    {
     "data": {
      "image/png": "[encoded data removed]",
      "text/plain": [
       "<Figure size 432x288 with 1 Axes>"
      ]
     },
     "metadata": {
      "needs_background": "light"
     },
     "output_type": "display_data"
    }
   ],
   "source": [
    "#Here, we plot the train,test and prediction using different colours to differentiate.\n",
    "plt.plot(train)\n",
    "plt.plot(test)\n",
    "plt.plot(pred)"
   ]
  },
  {
   "cell_type": "code",
   "execution_count": 31,
   "id": "d551324d",
   "metadata": {},
   "outputs": [
    {
     "data": {
      "text/html": [
       "<div>\n",
       "<style scoped>\n",
       "    .dataframe tbody tr th:only-of-type {\n",
       "        vertical-align: middle;\n",
       "    }\n",
       "\n",
       "    .dataframe tbody tr th {\n",
       "        vertical-align: top;\n",
       "    }\n",
       "\n",
       "    .dataframe thead th {\n",
       "        text-align: right;\n",
       "    }\n",
       "</style>\n",
       "<table border=\"1\" class=\"dataframe\">\n",
       "  <thead>\n",
       "    <tr style=\"text-align: right;\">\n",
       "      <th></th>\n",
       "      <th>Date</th>\n",
       "      <th>Category</th>\n",
       "      <th>News</th>\n",
       "    </tr>\n",
       "  </thead>\n",
       "  <tbody>\n",
       "    <tr>\n",
       "      <th>0</th>\n",
       "      <td>publish_date</td>\n",
       "      <td>headline_category</td>\n",
       "      <td>headline_text</td>\n",
       "    </tr>\n",
       "    <tr>\n",
       "      <th>1</th>\n",
       "      <td>20010102</td>\n",
       "      <td>unknown</td>\n",
       "      <td>Status quo will not be disturbed at Ayodhya; s...</td>\n",
       "    </tr>\n",
       "    <tr>\n",
       "      <th>2</th>\n",
       "      <td>20010102</td>\n",
       "      <td>unknown</td>\n",
       "      <td>Fissures in Hurriyat over Pak visit</td>\n",
       "    </tr>\n",
       "    <tr>\n",
       "      <th>3</th>\n",
       "      <td>20010102</td>\n",
       "      <td>unknown</td>\n",
       "      <td>America's unwanted heading for India?</td>\n",
       "    </tr>\n",
       "    <tr>\n",
       "      <th>4</th>\n",
       "      <td>20010102</td>\n",
       "      <td>unknown</td>\n",
       "      <td>For bigwigs; it is destination Goa</td>\n",
       "    </tr>\n",
       "    <tr>\n",
       "      <th>...</th>\n",
       "      <td>...</td>\n",
       "      <td>...</td>\n",
       "      <td>...</td>\n",
       "    </tr>\n",
       "    <tr>\n",
       "      <th>3650966</th>\n",
       "      <td>20220331</td>\n",
       "      <td>city.srinagar</td>\n",
       "      <td>J&amp;K sacks 2 cops; 3 other employees over terro...</td>\n",
       "    </tr>\n",
       "    <tr>\n",
       "      <th>3650967</th>\n",
       "      <td>20220331</td>\n",
       "      <td>entertainment.hindi.bollywood</td>\n",
       "      <td>Ranbir Kapoor says 'Rishi Kapoor enjoyed his a...</td>\n",
       "    </tr>\n",
       "    <tr>\n",
       "      <th>3650968</th>\n",
       "      <td>20220331</td>\n",
       "      <td>city.trichy</td>\n",
       "      <td>As Covid-19 cases drop to nil in southern dist...</td>\n",
       "    </tr>\n",
       "    <tr>\n",
       "      <th>3650969</th>\n",
       "      <td>20220331</td>\n",
       "      <td>city.erode</td>\n",
       "      <td>Tamil Nadu sees marginal rise of Covid cases w...</td>\n",
       "    </tr>\n",
       "    <tr>\n",
       "      <th>3650970</th>\n",
       "      <td>20220331</td>\n",
       "      <td>city.salem</td>\n",
       "      <td>Tamil Nadu sees marginal rise of Covid cases w...</td>\n",
       "    </tr>\n",
       "  </tbody>\n",
       "</table>\n",
       "<p>3650971 rows × 3 columns</p>\n",
       "</div>"
      ],
      "text/plain": [
       "                 Date                       Category  \\\n",
       "0        publish_date              headline_category   \n",
       "1            20010102                        unknown   \n",
       "2            20010102                        unknown   \n",
       "3            20010102                        unknown   \n",
       "4            20010102                        unknown   \n",
       "...               ...                            ...   \n",
       "3650966      20220331                  city.srinagar   \n",
       "3650967      20220331  entertainment.hindi.bollywood   \n",
       "3650968      20220331                    city.trichy   \n",
       "3650969      20220331                     city.erode   \n",
       "3650970      20220331                     city.salem   \n",
       "\n",
       "                                                      News  \n",
       "0                                            headline_text  \n",
       "1        Status quo will not be disturbed at Ayodhya; s...  \n",
       "2                      Fissures in Hurriyat over Pak visit  \n",
       "3                    America's unwanted heading for India?  \n",
       "4                       For bigwigs; it is destination Goa  \n",
       "...                                                    ...  \n",
       "3650966  J&K sacks 2 cops; 3 other employees over terro...  \n",
       "3650967  Ranbir Kapoor says 'Rishi Kapoor enjoyed his a...  \n",
       "3650968  As Covid-19 cases drop to nil in southern dist...  \n",
       "3650969  Tamil Nadu sees marginal rise of Covid cases w...  \n",
       "3650970  Tamil Nadu sees marginal rise of Covid cases w...  \n",
       "\n",
       "[3650971 rows x 3 columns]"
      ]
     },
     "execution_count": 31,
     "metadata": {},
     "output_type": "execute_result"
    }
   ],
   "source": [
    "#Importing the textual data.\n",
    "cols = ['Date','Category','News']\n",
    "df_news = pd.read_csv(\"C:/Users/Kankana Ghosh/Desktop/india-news-headlines.csv\", names = cols)\n",
    "df_news"
   ]
  },
  {
   "cell_type": "code",
   "execution_count": 32,
   "id": "6e59bb87",
   "metadata": {},
   "outputs": [
    {
     "name": "stdout",
     "output_type": "stream",
     "text": [
      "<class 'pandas.core.frame.DataFrame'>\n",
      "RangeIndex: 3650970 entries, 1 to 3650970\n",
      "Data columns (total 2 columns):\n",
      " #   Column  Dtype \n",
      "---  ------  ----- \n",
      " 0   Date    object\n",
      " 1   News    object\n",
      "dtypes: object(2)\n",
      "memory usage: 55.7+ MB\n"
     ]
    }
   ],
   "source": [
    "#Cleaning the data\n",
    "df_news.drop(0, inplace=True)\n",
    "df_news.drop('Category', axis = 1, inplace=True)\n",
    "df_news.info()"
   ]
  },
  {
   "cell_type": "code",
   "execution_count": 33,
   "id": "26968614",
   "metadata": {},
   "outputs": [
    {
     "data": {
      "text/html": [
       "<div>\n",
       "<style scoped>\n",
       "    .dataframe tbody tr th:only-of-type {\n",
       "        vertical-align: middle;\n",
       "    }\n",
       "\n",
       "    .dataframe tbody tr th {\n",
       "        vertical-align: top;\n",
       "    }\n",
       "\n",
       "    .dataframe thead th {\n",
       "        text-align: right;\n",
       "    }\n",
       "</style>\n",
       "<table border=\"1\" class=\"dataframe\">\n",
       "  <thead>\n",
       "    <tr style=\"text-align: right;\">\n",
       "      <th></th>\n",
       "      <th>Date</th>\n",
       "      <th>News</th>\n",
       "    </tr>\n",
       "  </thead>\n",
       "  <tbody>\n",
       "    <tr>\n",
       "      <th>1</th>\n",
       "      <td>2001-01-02</td>\n",
       "      <td>Status quo will not be disturbed at Ayodhya; s...</td>\n",
       "    </tr>\n",
       "    <tr>\n",
       "      <th>2</th>\n",
       "      <td>2001-01-02</td>\n",
       "      <td>Fissures in Hurriyat over Pak visit</td>\n",
       "    </tr>\n",
       "    <tr>\n",
       "      <th>3</th>\n",
       "      <td>2001-01-02</td>\n",
       "      <td>America's unwanted heading for India?</td>\n",
       "    </tr>\n",
       "    <tr>\n",
       "      <th>4</th>\n",
       "      <td>2001-01-02</td>\n",
       "      <td>For bigwigs; it is destination Goa</td>\n",
       "    </tr>\n",
       "    <tr>\n",
       "      <th>5</th>\n",
       "      <td>2001-01-02</td>\n",
       "      <td>Extra buses to clear tourist traffic</td>\n",
       "    </tr>\n",
       "    <tr>\n",
       "      <th>...</th>\n",
       "      <td>...</td>\n",
       "      <td>...</td>\n",
       "    </tr>\n",
       "    <tr>\n",
       "      <th>3650966</th>\n",
       "      <td>2022-03-31</td>\n",
       "      <td>J&amp;K sacks 2 cops; 3 other employees over terro...</td>\n",
       "    </tr>\n",
       "    <tr>\n",
       "      <th>3650967</th>\n",
       "      <td>2022-03-31</td>\n",
       "      <td>Ranbir Kapoor says 'Rishi Kapoor enjoyed his a...</td>\n",
       "    </tr>\n",
       "    <tr>\n",
       "      <th>3650968</th>\n",
       "      <td>2022-03-31</td>\n",
       "      <td>As Covid-19 cases drop to nil in southern dist...</td>\n",
       "    </tr>\n",
       "    <tr>\n",
       "      <th>3650969</th>\n",
       "      <td>2022-03-31</td>\n",
       "      <td>Tamil Nadu sees marginal rise of Covid cases w...</td>\n",
       "    </tr>\n",
       "    <tr>\n",
       "      <th>3650970</th>\n",
       "      <td>2022-03-31</td>\n",
       "      <td>Tamil Nadu sees marginal rise of Covid cases w...</td>\n",
       "    </tr>\n",
       "  </tbody>\n",
       "</table>\n",
       "<p>3650970 rows × 2 columns</p>\n",
       "</div>"
      ],
      "text/plain": [
       "              Date                                               News\n",
       "1       2001-01-02  Status quo will not be disturbed at Ayodhya; s...\n",
       "2       2001-01-02                Fissures in Hurriyat over Pak visit\n",
       "3       2001-01-02              America's unwanted heading for India?\n",
       "4       2001-01-02                 For bigwigs; it is destination Goa\n",
       "5       2001-01-02               Extra buses to clear tourist traffic\n",
       "...            ...                                                ...\n",
       "3650966 2022-03-31  J&K sacks 2 cops; 3 other employees over terro...\n",
       "3650967 2022-03-31  Ranbir Kapoor says 'Rishi Kapoor enjoyed his a...\n",
       "3650968 2022-03-31  As Covid-19 cases drop to nil in southern dist...\n",
       "3650969 2022-03-31  Tamil Nadu sees marginal rise of Covid cases w...\n",
       "3650970 2022-03-31  Tamil Nadu sees marginal rise of Covid cases w...\n",
       "\n",
       "[3650970 rows x 2 columns]"
      ]
     },
     "execution_count": 33,
     "metadata": {},
     "output_type": "execute_result"
    }
   ],
   "source": [
    "#Converting data type of Date column \n",
    "df_news['Date'] = pd.to_datetime(df_news['Date'],format= '%Y%m%d')\n",
    "df_news"
   ]
  },
  {
   "cell_type": "code",
   "execution_count": 34,
   "id": "40bde85e",
   "metadata": {},
   "outputs": [
    {
     "data": {
      "text/html": [
       "<div>\n",
       "<style scoped>\n",
       "    .dataframe tbody tr th:only-of-type {\n",
       "        vertical-align: middle;\n",
       "    }\n",
       "\n",
       "    .dataframe tbody tr th {\n",
       "        vertical-align: top;\n",
       "    }\n",
       "\n",
       "    .dataframe thead th {\n",
       "        text-align: right;\n",
       "    }\n",
       "</style>\n",
       "<table border=\"1\" class=\"dataframe\">\n",
       "  <thead>\n",
       "    <tr style=\"text-align: right;\">\n",
       "      <th></th>\n",
       "      <th>Date</th>\n",
       "      <th>News</th>\n",
       "    </tr>\n",
       "  </thead>\n",
       "  <tbody>\n",
       "    <tr>\n",
       "      <th>0</th>\n",
       "      <td>2001-01-02</td>\n",
       "      <td>Status quo will not be disturbed at Ayodhya; s...</td>\n",
       "    </tr>\n",
       "    <tr>\n",
       "      <th>1</th>\n",
       "      <td>2001-01-03</td>\n",
       "      <td>Powerless north India gropes in the dark Think...</td>\n",
       "    </tr>\n",
       "    <tr>\n",
       "      <th>2</th>\n",
       "      <td>2001-01-04</td>\n",
       "      <td>The string that pulled Stephen Hawking to Indi...</td>\n",
       "    </tr>\n",
       "    <tr>\n",
       "      <th>3</th>\n",
       "      <td>2001-01-05</td>\n",
       "      <td>Light combat craft takes India into club class...</td>\n",
       "    </tr>\n",
       "    <tr>\n",
       "      <th>4</th>\n",
       "      <td>2001-01-06</td>\n",
       "      <td>Light combat craft takes India into club class...</td>\n",
       "    </tr>\n",
       "    <tr>\n",
       "      <th>...</th>\n",
       "      <td>...</td>\n",
       "      <td>...</td>\n",
       "    </tr>\n",
       "    <tr>\n",
       "      <th>7712</th>\n",
       "      <td>2022-03-27</td>\n",
       "      <td>Playing a dead man in Body God meant sitting i...</td>\n",
       "    </tr>\n",
       "    <tr>\n",
       "      <th>7713</th>\n",
       "      <td>2022-03-28</td>\n",
       "      <td>As fashion becomes democratic; demand for styl...</td>\n",
       "    </tr>\n",
       "    <tr>\n",
       "      <th>7714</th>\n",
       "      <td>2022-03-29</td>\n",
       "      <td>Bobby Deol: Like my dad; I hope to be working ...</td>\n",
       "    </tr>\n",
       "    <tr>\n",
       "      <th>7715</th>\n",
       "      <td>2022-03-30</td>\n",
       "      <td>I will not give in to trends: Dossmode The tim...</td>\n",
       "    </tr>\n",
       "    <tr>\n",
       "      <th>7716</th>\n",
       "      <td>2022-03-31</td>\n",
       "      <td>Shashank goes back to coastal Karnataka and Mo...</td>\n",
       "    </tr>\n",
       "  </tbody>\n",
       "</table>\n",
       "<p>7717 rows × 2 columns</p>\n",
       "</div>"
      ],
      "text/plain": [
       "           Date                                               News\n",
       "0    2001-01-02  Status quo will not be disturbed at Ayodhya; s...\n",
       "1    2001-01-03  Powerless north India gropes in the dark Think...\n",
       "2    2001-01-04  The string that pulled Stephen Hawking to Indi...\n",
       "3    2001-01-05  Light combat craft takes India into club class...\n",
       "4    2001-01-06  Light combat craft takes India into club class...\n",
       "...         ...                                                ...\n",
       "7712 2022-03-27  Playing a dead man in Body God meant sitting i...\n",
       "7713 2022-03-28  As fashion becomes democratic; demand for styl...\n",
       "7714 2022-03-29  Bobby Deol: Like my dad; I hope to be working ...\n",
       "7715 2022-03-30  I will not give in to trends: Dossmode The tim...\n",
       "7716 2022-03-31  Shashank goes back to coastal Karnataka and Mo...\n",
       "\n",
       "[7717 rows x 2 columns]"
      ]
     },
     "execution_count": 34,
     "metadata": {},
     "output_type": "execute_result"
    }
   ],
   "source": [
    "#Grouping the headlines for each day\n",
    "df_news['News'] = df_news.groupby(['Date']).transform(lambda x : ' '.join(x)) \n",
    "df_news = df_news.drop_duplicates() \n",
    "df_news.reset_index(inplace = True, drop = True)\n",
    "df_news"
   ]
  },
  {
   "cell_type": "code",
   "execution_count": 35,
   "id": "13bf8029",
   "metadata": {},
   "outputs": [
    {
     "data": {
      "text/plain": [
       "0       Status quo will not be disturbed at Ayodhya; s...\n",
       "1       Powerless north India gropes in the dark Think...\n",
       "2       The string that pulled Stephen Hawking to Indi...\n",
       "3       Light combat craft takes India into club class...\n",
       "4       Light combat craft takes India into club class...\n",
       "                              ...                        \n",
       "7712    Playing a dead man in Body God meant sitting i...\n",
       "7713    As fashion becomes democratic; demand for styl...\n",
       "7714    Bobby Deol: Like my dad; I hope to be working ...\n",
       "7715    I will not give in to trends: Dossmode The tim...\n",
       "7716    Shashank goes back to coastal Karnataka and Mo...\n",
       "Name: News, Length: 7717, dtype: object"
      ]
     },
     "execution_count": 35,
     "metadata": {},
     "output_type": "execute_result"
    }
   ],
   "source": [
    "df_news['News']"
   ]
  },
  {
   "cell_type": "code",
   "execution_count": 36,
   "id": "b2b1b28b",
   "metadata": {},
   "outputs": [],
   "source": [
    "#Functions to get the subjectivity and polarity\n",
    "def getSubjectivity(text):\n",
    "  return TextBlob(text).sentiment.subjectivity\n",
    "\n",
    "def getPolarity(text):\n",
    "  return  TextBlob(text).sentiment.polarity"
   ]
  },
  {
   "cell_type": "code",
   "execution_count": 37,
   "id": "b52bdbc0",
   "metadata": {},
   "outputs": [
    {
     "data": {
      "text/html": [
       "<div>\n",
       "<style scoped>\n",
       "    .dataframe tbody tr th:only-of-type {\n",
       "        vertical-align: middle;\n",
       "    }\n",
       "\n",
       "    .dataframe tbody tr th {\n",
       "        vertical-align: top;\n",
       "    }\n",
       "\n",
       "    .dataframe thead th {\n",
       "        text-align: right;\n",
       "    }\n",
       "</style>\n",
       "<table border=\"1\" class=\"dataframe\">\n",
       "  <thead>\n",
       "    <tr style=\"text-align: right;\">\n",
       "      <th></th>\n",
       "      <th>Date</th>\n",
       "      <th>News</th>\n",
       "      <th>Subjectivity</th>\n",
       "      <th>Polarity</th>\n",
       "    </tr>\n",
       "  </thead>\n",
       "  <tbody>\n",
       "    <tr>\n",
       "      <th>0</th>\n",
       "      <td>2001-01-02</td>\n",
       "      <td>Status quo will not be disturbed at Ayodhya; s...</td>\n",
       "      <td>0.282333</td>\n",
       "      <td>0.151333</td>\n",
       "    </tr>\n",
       "    <tr>\n",
       "      <th>1</th>\n",
       "      <td>2001-01-03</td>\n",
       "      <td>Powerless north India gropes in the dark Think...</td>\n",
       "      <td>0.407692</td>\n",
       "      <td>0.088462</td>\n",
       "    </tr>\n",
       "    <tr>\n",
       "      <th>2</th>\n",
       "      <td>2001-01-04</td>\n",
       "      <td>The string that pulled Stephen Hawking to Indi...</td>\n",
       "      <td>0.446847</td>\n",
       "      <td>0.087961</td>\n",
       "    </tr>\n",
       "    <tr>\n",
       "      <th>3</th>\n",
       "      <td>2001-01-05</td>\n",
       "      <td>Light combat craft takes India into club class...</td>\n",
       "      <td>0.476612</td>\n",
       "      <td>0.262024</td>\n",
       "    </tr>\n",
       "    <tr>\n",
       "      <th>4</th>\n",
       "      <td>2001-01-06</td>\n",
       "      <td>Light combat craft takes India into club class...</td>\n",
       "      <td>0.439394</td>\n",
       "      <td>0.248485</td>\n",
       "    </tr>\n",
       "    <tr>\n",
       "      <th>...</th>\n",
       "      <td>...</td>\n",
       "      <td>...</td>\n",
       "      <td>...</td>\n",
       "      <td>...</td>\n",
       "    </tr>\n",
       "    <tr>\n",
       "      <th>7712</th>\n",
       "      <td>2022-03-27</td>\n",
       "      <td>Playing a dead man in Body God meant sitting i...</td>\n",
       "      <td>0.369592</td>\n",
       "      <td>0.025109</td>\n",
       "    </tr>\n",
       "    <tr>\n",
       "      <th>7713</th>\n",
       "      <td>2022-03-28</td>\n",
       "      <td>As fashion becomes democratic; demand for styl...</td>\n",
       "      <td>0.389939</td>\n",
       "      <td>0.055878</td>\n",
       "    </tr>\n",
       "    <tr>\n",
       "      <th>7714</th>\n",
       "      <td>2022-03-29</td>\n",
       "      <td>Bobby Deol: Like my dad; I hope to be working ...</td>\n",
       "      <td>0.404240</td>\n",
       "      <td>0.095198</td>\n",
       "    </tr>\n",
       "    <tr>\n",
       "      <th>7715</th>\n",
       "      <td>2022-03-30</td>\n",
       "      <td>I will not give in to trends: Dossmode The tim...</td>\n",
       "      <td>0.350965</td>\n",
       "      <td>0.037729</td>\n",
       "    </tr>\n",
       "    <tr>\n",
       "      <th>7716</th>\n",
       "      <td>2022-03-31</td>\n",
       "      <td>Shashank goes back to coastal Karnataka and Mo...</td>\n",
       "      <td>0.338593</td>\n",
       "      <td>0.023654</td>\n",
       "    </tr>\n",
       "  </tbody>\n",
       "</table>\n",
       "<p>7717 rows × 4 columns</p>\n",
       "</div>"
      ],
      "text/plain": [
       "           Date                                               News  \\\n",
       "0    2001-01-02  Status quo will not be disturbed at Ayodhya; s...   \n",
       "1    2001-01-03  Powerless north India gropes in the dark Think...   \n",
       "2    2001-01-04  The string that pulled Stephen Hawking to Indi...   \n",
       "3    2001-01-05  Light combat craft takes India into club class...   \n",
       "4    2001-01-06  Light combat craft takes India into club class...   \n",
       "...         ...                                                ...   \n",
       "7712 2022-03-27  Playing a dead man in Body God meant sitting i...   \n",
       "7713 2022-03-28  As fashion becomes democratic; demand for styl...   \n",
       "7714 2022-03-29  Bobby Deol: Like my dad; I hope to be working ...   \n",
       "7715 2022-03-30  I will not give in to trends: Dossmode The tim...   \n",
       "7716 2022-03-31  Shashank goes back to coastal Karnataka and Mo...   \n",
       "\n",
       "      Subjectivity  Polarity  \n",
       "0         0.282333  0.151333  \n",
       "1         0.407692  0.088462  \n",
       "2         0.446847  0.087961  \n",
       "3         0.476612  0.262024  \n",
       "4         0.439394  0.248485  \n",
       "...            ...       ...  \n",
       "7712      0.369592  0.025109  \n",
       "7713      0.389939  0.055878  \n",
       "7714      0.404240  0.095198  \n",
       "7715      0.350965  0.037729  \n",
       "7716      0.338593  0.023654  \n",
       "\n",
       "[7717 rows x 4 columns]"
      ]
     },
     "execution_count": 37,
     "metadata": {},
     "output_type": "execute_result"
    }
   ],
   "source": [
    "#Adding subjectivity and polarity columns\n",
    "df_news['Subjectivity'] = df_news['News'].apply(getSubjectivity)\n",
    "df_news['Polarity'] = df_news['News'].apply(getPolarity)\n",
    "df_news"
   ]
  },
  {
   "cell_type": "code",
   "execution_count": 38,
   "id": "b2d9cedd",
   "metadata": {},
   "outputs": [
    {
     "data": {
      "text/plain": [
       "<AxesSubplot:>"
      ]
     },
     "execution_count": 38,
     "metadata": {},
     "output_type": "execute_result"
    },
    {
     "data": {
      "image/png": "[encoded data removed]",
      "text/plain": [
       "<Figure size 720x432 with 1 Axes>"
      ]
     },
     "metadata": {
      "needs_background": "light"
     },
     "output_type": "display_data"
    }
   ],
   "source": [
    "plt.figure(figsize = (10,6))\n",
    "df_news['Polarity'].hist(color = 'purple')"
   ]
  },
  {
   "cell_type": "code",
   "execution_count": 39,
   "id": "859138b2",
   "metadata": {},
   "outputs": [
    {
     "data": {
      "text/plain": [
       "<AxesSubplot:>"
      ]
     },
     "execution_count": 39,
     "metadata": {},
     "output_type": "execute_result"
    },
    {
     "data": {
      "image/png": "[encoded data removed]",
      "text/plain": [
       "<Figure size 720x432 with 1 Axes>"
      ]
     },
     "metadata": {
      "needs_background": "light"
     },
     "output_type": "display_data"
    }
   ],
   "source": [
    "plt.figure(figsize = (10,6))\n",
    "df_news['Subjectivity'].hist(color = 'blue')"
   ]
  },
  {
   "cell_type": "code",
   "execution_count": 40,
   "id": "e2136e17",
   "metadata": {},
   "outputs": [
    {
     "data": {
      "text/html": [
       "<div>\n",
       "<style scoped>\n",
       "    .dataframe tbody tr th:only-of-type {\n",
       "        vertical-align: middle;\n",
       "    }\n",
       "\n",
       "    .dataframe tbody tr th {\n",
       "        vertical-align: top;\n",
       "    }\n",
       "\n",
       "    .dataframe thead th {\n",
       "        text-align: right;\n",
       "    }\n",
       "</style>\n",
       "<table border=\"1\" class=\"dataframe\">\n",
       "  <thead>\n",
       "    <tr style=\"text-align: right;\">\n",
       "      <th></th>\n",
       "      <th>Date</th>\n",
       "      <th>News</th>\n",
       "      <th>Subjectivity</th>\n",
       "      <th>Polarity</th>\n",
       "      <th>Compound</th>\n",
       "      <th>Negative</th>\n",
       "      <th>Neutral</th>\n",
       "      <th>Positive</th>\n",
       "    </tr>\n",
       "  </thead>\n",
       "  <tbody>\n",
       "    <tr>\n",
       "      <th>0</th>\n",
       "      <td>2001-01-02</td>\n",
       "      <td>Status quo will not be disturbed at Ayodhya; s...</td>\n",
       "      <td>0.282333</td>\n",
       "      <td>0.151333</td>\n",
       "      <td>-0.9811</td>\n",
       "      <td>0.122</td>\n",
       "      <td>0.807</td>\n",
       "      <td>0.071</td>\n",
       "    </tr>\n",
       "    <tr>\n",
       "      <th>1</th>\n",
       "      <td>2001-01-03</td>\n",
       "      <td>Powerless north India gropes in the dark Think...</td>\n",
       "      <td>0.407692</td>\n",
       "      <td>0.088462</td>\n",
       "      <td>-0.2640</td>\n",
       "      <td>0.122</td>\n",
       "      <td>0.766</td>\n",
       "      <td>0.111</td>\n",
       "    </tr>\n",
       "    <tr>\n",
       "      <th>2</th>\n",
       "      <td>2001-01-04</td>\n",
       "      <td>The string that pulled Stephen Hawking to Indi...</td>\n",
       "      <td>0.446847</td>\n",
       "      <td>0.087961</td>\n",
       "      <td>0.8738</td>\n",
       "      <td>0.100</td>\n",
       "      <td>0.797</td>\n",
       "      <td>0.103</td>\n",
       "    </tr>\n",
       "    <tr>\n",
       "      <th>3</th>\n",
       "      <td>2001-01-05</td>\n",
       "      <td>Light combat craft takes India into club class...</td>\n",
       "      <td>0.476612</td>\n",
       "      <td>0.262024</td>\n",
       "      <td>0.9769</td>\n",
       "      <td>0.124</td>\n",
       "      <td>0.719</td>\n",
       "      <td>0.157</td>\n",
       "    </tr>\n",
       "    <tr>\n",
       "      <th>4</th>\n",
       "      <td>2001-01-06</td>\n",
       "      <td>Light combat craft takes India into club class...</td>\n",
       "      <td>0.439394</td>\n",
       "      <td>0.248485</td>\n",
       "      <td>-0.4215</td>\n",
       "      <td>0.152</td>\n",
       "      <td>0.704</td>\n",
       "      <td>0.143</td>\n",
       "    </tr>\n",
       "    <tr>\n",
       "      <th>...</th>\n",
       "      <td>...</td>\n",
       "      <td>...</td>\n",
       "      <td>...</td>\n",
       "      <td>...</td>\n",
       "      <td>...</td>\n",
       "      <td>...</td>\n",
       "      <td>...</td>\n",
       "      <td>...</td>\n",
       "    </tr>\n",
       "    <tr>\n",
       "      <th>7712</th>\n",
       "      <td>2022-03-27</td>\n",
       "      <td>Playing a dead man in Body God meant sitting i...</td>\n",
       "      <td>0.369592</td>\n",
       "      <td>0.025109</td>\n",
       "      <td>-0.9999</td>\n",
       "      <td>0.154</td>\n",
       "      <td>0.764</td>\n",
       "      <td>0.082</td>\n",
       "    </tr>\n",
       "    <tr>\n",
       "      <th>7713</th>\n",
       "      <td>2022-03-28</td>\n",
       "      <td>As fashion becomes democratic; demand for styl...</td>\n",
       "      <td>0.389939</td>\n",
       "      <td>0.055878</td>\n",
       "      <td>-0.9999</td>\n",
       "      <td>0.158</td>\n",
       "      <td>0.742</td>\n",
       "      <td>0.100</td>\n",
       "    </tr>\n",
       "    <tr>\n",
       "      <th>7714</th>\n",
       "      <td>2022-03-29</td>\n",
       "      <td>Bobby Deol: Like my dad; I hope to be working ...</td>\n",
       "      <td>0.404240</td>\n",
       "      <td>0.095198</td>\n",
       "      <td>-0.9999</td>\n",
       "      <td>0.152</td>\n",
       "      <td>0.766</td>\n",
       "      <td>0.082</td>\n",
       "    </tr>\n",
       "    <tr>\n",
       "      <th>7715</th>\n",
       "      <td>2022-03-30</td>\n",
       "      <td>I will not give in to trends: Dossmode The tim...</td>\n",
       "      <td>0.350965</td>\n",
       "      <td>0.037729</td>\n",
       "      <td>-0.9999</td>\n",
       "      <td>0.151</td>\n",
       "      <td>0.775</td>\n",
       "      <td>0.074</td>\n",
       "    </tr>\n",
       "    <tr>\n",
       "      <th>7716</th>\n",
       "      <td>2022-03-31</td>\n",
       "      <td>Shashank goes back to coastal Karnataka and Mo...</td>\n",
       "      <td>0.338593</td>\n",
       "      <td>0.023654</td>\n",
       "      <td>-0.9999</td>\n",
       "      <td>0.150</td>\n",
       "      <td>0.781</td>\n",
       "      <td>0.069</td>\n",
       "    </tr>\n",
       "  </tbody>\n",
       "</table>\n",
       "<p>7717 rows × 8 columns</p>\n",
       "</div>"
      ],
      "text/plain": [
       "           Date                                               News  \\\n",
       "0    2001-01-02  Status quo will not be disturbed at Ayodhya; s...   \n",
       "1    2001-01-03  Powerless north India gropes in the dark Think...   \n",
       "2    2001-01-04  The string that pulled Stephen Hawking to Indi...   \n",
       "3    2001-01-05  Light combat craft takes India into club class...   \n",
       "4    2001-01-06  Light combat craft takes India into club class...   \n",
       "...         ...                                                ...   \n",
       "7712 2022-03-27  Playing a dead man in Body God meant sitting i...   \n",
       "7713 2022-03-28  As fashion becomes democratic; demand for styl...   \n",
       "7714 2022-03-29  Bobby Deol: Like my dad; I hope to be working ...   \n",
       "7715 2022-03-30  I will not give in to trends: Dossmode The tim...   \n",
       "7716 2022-03-31  Shashank goes back to coastal Karnataka and Mo...   \n",
       "\n",
       "      Subjectivity  Polarity  Compound  Negative  Neutral  Positive  \n",
       "0         0.282333  0.151333   -0.9811     0.122    0.807     0.071  \n",
       "1         0.407692  0.088462   -0.2640     0.122    0.766     0.111  \n",
       "2         0.446847  0.087961    0.8738     0.100    0.797     0.103  \n",
       "3         0.476612  0.262024    0.9769     0.124    0.719     0.157  \n",
       "4         0.439394  0.248485   -0.4215     0.152    0.704     0.143  \n",
       "...            ...       ...       ...       ...      ...       ...  \n",
       "7712      0.369592  0.025109   -0.9999     0.154    0.764     0.082  \n",
       "7713      0.389939  0.055878   -0.9999     0.158    0.742     0.100  \n",
       "7714      0.404240  0.095198   -0.9999     0.152    0.766     0.082  \n",
       "7715      0.350965  0.037729   -0.9999     0.151    0.775     0.074  \n",
       "7716      0.338593  0.023654   -0.9999     0.150    0.781     0.069  \n",
       "\n",
       "[7717 rows x 8 columns]"
      ]
     },
     "execution_count": 40,
     "metadata": {},
     "output_type": "execute_result"
    }
   ],
   "source": [
    "#Adding sentiment score to df_news\n",
    "sia = SentimentIntensityAnalyzer()\n",
    "\n",
    "df_news['Compound'] = [sia.polarity_scores(v)['compound'] for v in df_news['News']]\n",
    "df_news['Negative'] = [sia.polarity_scores(v)['neg'] for v in df_news['News']]\n",
    "df_news['Neutral'] = [sia.polarity_scores(v)['neu'] for v in df_news['News']]\n",
    "df_news['Positive'] = [sia.polarity_scores(v)['pos'] for v in df_news['News']]\n",
    "df_news"
   ]
  },
  {
   "cell_type": "code",
   "execution_count": 43,
   "id": "e112a55e",
   "metadata": {},
   "outputs": [
    {
     "data": {
      "text/html": [
       "<div>\n",
       "<style scoped>\n",
       "    .dataframe tbody tr th:only-of-type {\n",
       "        vertical-align: middle;\n",
       "    }\n",
       "\n",
       "    .dataframe tbody tr th {\n",
       "        vertical-align: top;\n",
       "    }\n",
       "\n",
       "    .dataframe thead th {\n",
       "        text-align: right;\n",
       "    }\n",
       "</style>\n",
       "<table border=\"1\" class=\"dataframe\">\n",
       "  <thead>\n",
       "    <tr style=\"text-align: right;\">\n",
       "      <th></th>\n",
       "      <th>Date</th>\n",
       "      <th>Close</th>\n",
       "      <th>News</th>\n",
       "      <th>Subjectivity</th>\n",
       "      <th>Polarity</th>\n",
       "      <th>Compound</th>\n",
       "      <th>Negative</th>\n",
       "      <th>Neutral</th>\n",
       "      <th>Positive</th>\n",
       "    </tr>\n",
       "  </thead>\n",
       "  <tbody>\n",
       "    <tr>\n",
       "      <th>0</th>\n",
       "      <td>2018-01-10</td>\n",
       "      <td>34433.07</td>\n",
       "      <td>Coaching classes fume over proposed Act to reg...</td>\n",
       "      <td>0.385999</td>\n",
       "      <td>0.046321</td>\n",
       "      <td>-1.0000</td>\n",
       "      <td>0.159</td>\n",
       "      <td>0.761</td>\n",
       "      <td>0.080</td>\n",
       "    </tr>\n",
       "    <tr>\n",
       "      <th>1</th>\n",
       "      <td>2018-01-11</td>\n",
       "      <td>34503.49</td>\n",
       "      <td>Rajini mandrams in Madurai raring to get to wo...</td>\n",
       "      <td>0.364719</td>\n",
       "      <td>0.035556</td>\n",
       "      <td>-1.0000</td>\n",
       "      <td>0.172</td>\n",
       "      <td>0.731</td>\n",
       "      <td>0.097</td>\n",
       "    </tr>\n",
       "    <tr>\n",
       "      <th>2</th>\n",
       "      <td>2018-01-12</td>\n",
       "      <td>34592.39</td>\n",
       "      <td>Learn the right way to apply a highlighter Ant...</td>\n",
       "      <td>0.395696</td>\n",
       "      <td>0.042553</td>\n",
       "      <td>-1.0000</td>\n",
       "      <td>0.164</td>\n",
       "      <td>0.742</td>\n",
       "      <td>0.094</td>\n",
       "    </tr>\n",
       "    <tr>\n",
       "      <th>3</th>\n",
       "      <td>2018-01-15</td>\n",
       "      <td>34843.51</td>\n",
       "      <td>gst did the government buy more systemic risk ...</td>\n",
       "      <td>0.400246</td>\n",
       "      <td>0.066456</td>\n",
       "      <td>-0.9999</td>\n",
       "      <td>0.153</td>\n",
       "      <td>0.739</td>\n",
       "      <td>0.108</td>\n",
       "    </tr>\n",
       "    <tr>\n",
       "      <th>4</th>\n",
       "      <td>2018-01-16</td>\n",
       "      <td>34771.05</td>\n",
       "      <td>Gangasagar event logs record dips this year Th...</td>\n",
       "      <td>0.367151</td>\n",
       "      <td>0.041741</td>\n",
       "      <td>-1.0000</td>\n",
       "      <td>0.172</td>\n",
       "      <td>0.740</td>\n",
       "      <td>0.089</td>\n",
       "    </tr>\n",
       "    <tr>\n",
       "      <th>...</th>\n",
       "      <td>...</td>\n",
       "      <td>...</td>\n",
       "      <td>...</td>\n",
       "      <td>...</td>\n",
       "      <td>...</td>\n",
       "      <td>...</td>\n",
       "      <td>...</td>\n",
       "      <td>...</td>\n",
       "      <td>...</td>\n",
       "    </tr>\n",
       "    <tr>\n",
       "      <th>730</th>\n",
       "      <td>2021-01-04</td>\n",
       "      <td>48176.80</td>\n",
       "      <td>Micro review: 'Ahalya's Awakening' by Kavita K...</td>\n",
       "      <td>0.400073</td>\n",
       "      <td>0.047840</td>\n",
       "      <td>-0.9999</td>\n",
       "      <td>0.143</td>\n",
       "      <td>0.789</td>\n",
       "      <td>0.069</td>\n",
       "    </tr>\n",
       "    <tr>\n",
       "      <th>731</th>\n",
       "      <td>2021-01-05</td>\n",
       "      <td>48437.78</td>\n",
       "      <td>Numerology Readings 05 January 2021: Predictio...</td>\n",
       "      <td>0.417821</td>\n",
       "      <td>0.071803</td>\n",
       "      <td>-0.9999</td>\n",
       "      <td>0.151</td>\n",
       "      <td>0.749</td>\n",
       "      <td>0.100</td>\n",
       "    </tr>\n",
       "    <tr>\n",
       "      <th>732</th>\n",
       "      <td>2021-01-06</td>\n",
       "      <td>48174.06</td>\n",
       "      <td>Will UP go for pro-tem chairmanin legislative ...</td>\n",
       "      <td>0.393074</td>\n",
       "      <td>0.043358</td>\n",
       "      <td>-0.9999</td>\n",
       "      <td>0.150</td>\n",
       "      <td>0.771</td>\n",
       "      <td>0.079</td>\n",
       "    </tr>\n",
       "    <tr>\n",
       "      <th>733</th>\n",
       "      <td>2021-01-07</td>\n",
       "      <td>48093.32</td>\n",
       "      <td>Chasing the winter sun in Abu Dhabi Know why s...</td>\n",
       "      <td>0.393661</td>\n",
       "      <td>0.036845</td>\n",
       "      <td>-0.9999</td>\n",
       "      <td>0.129</td>\n",
       "      <td>0.802</td>\n",
       "      <td>0.069</td>\n",
       "    </tr>\n",
       "    <tr>\n",
       "      <th>734</th>\n",
       "      <td>2021-01-08</td>\n",
       "      <td>48782.51</td>\n",
       "      <td>Infra push can help boost consumption CM Yogi ...</td>\n",
       "      <td>0.384345</td>\n",
       "      <td>0.047224</td>\n",
       "      <td>-1.0000</td>\n",
       "      <td>0.167</td>\n",
       "      <td>0.771</td>\n",
       "      <td>0.063</td>\n",
       "    </tr>\n",
       "  </tbody>\n",
       "</table>\n",
       "<p>735 rows × 9 columns</p>\n",
       "</div>"
      ],
      "text/plain": [
       "          Date     Close                                               News  \\\n",
       "0   2018-01-10  34433.07  Coaching classes fume over proposed Act to reg...   \n",
       "1   2018-01-11  34503.49  Rajini mandrams in Madurai raring to get to wo...   \n",
       "2   2018-01-12  34592.39  Learn the right way to apply a highlighter Ant...   \n",
       "3   2018-01-15  34843.51  gst did the government buy more systemic risk ...   \n",
       "4   2018-01-16  34771.05  Gangasagar event logs record dips this year Th...   \n",
       "..         ...       ...                                                ...   \n",
       "730 2021-01-04  48176.80  Micro review: 'Ahalya's Awakening' by Kavita K...   \n",
       "731 2021-01-05  48437.78  Numerology Readings 05 January 2021: Predictio...   \n",
       "732 2021-01-06  48174.06  Will UP go for pro-tem chairmanin legislative ...   \n",
       "733 2021-01-07  48093.32  Chasing the winter sun in Abu Dhabi Know why s...   \n",
       "734 2021-01-08  48782.51  Infra push can help boost consumption CM Yogi ...   \n",
       "\n",
       "     Subjectivity  Polarity  Compound  Negative  Neutral  Positive  \n",
       "0        0.385999  0.046321   -1.0000     0.159    0.761     0.080  \n",
       "1        0.364719  0.035556   -1.0000     0.172    0.731     0.097  \n",
       "2        0.395696  0.042553   -1.0000     0.164    0.742     0.094  \n",
       "3        0.400246  0.066456   -0.9999     0.153    0.739     0.108  \n",
       "4        0.367151  0.041741   -1.0000     0.172    0.740     0.089  \n",
       "..            ...       ...       ...       ...      ...       ...  \n",
       "730      0.400073  0.047840   -0.9999     0.143    0.789     0.069  \n",
       "731      0.417821  0.071803   -0.9999     0.151    0.749     0.100  \n",
       "732      0.393074  0.043358   -0.9999     0.150    0.771     0.079  \n",
       "733      0.393661  0.036845   -0.9999     0.129    0.802     0.069  \n",
       "734      0.384345  0.047224   -1.0000     0.167    0.771     0.063  \n",
       "\n",
       "[735 rows x 9 columns]"
      ]
     },
     "execution_count": 43,
     "metadata": {},
     "output_type": "execute_result"
    }
   ],
   "source": [
    "#Merging the numerical and textual data\n",
    "df_merge = pd.merge(df, df_news, how='inner', on='Date')\n",
    "df_merge"
   ]
  },
  {
   "cell_type": "code",
   "execution_count": 44,
   "id": "6a6b9e57",
   "metadata": {},
   "outputs": [
    {
     "data": {
      "text/html": [
       "<div>\n",
       "<style scoped>\n",
       "    .dataframe tbody tr th:only-of-type {\n",
       "        vertical-align: middle;\n",
       "    }\n",
       "\n",
       "    .dataframe tbody tr th {\n",
       "        vertical-align: top;\n",
       "    }\n",
       "\n",
       "    .dataframe thead th {\n",
       "        text-align: right;\n",
       "    }\n",
       "</style>\n",
       "<table border=\"1\" class=\"dataframe\">\n",
       "  <thead>\n",
       "    <tr style=\"text-align: right;\">\n",
       "      <th></th>\n",
       "      <th>Close</th>\n",
       "      <th>Subjectivity</th>\n",
       "      <th>Polarity</th>\n",
       "      <th>Compound</th>\n",
       "      <th>Negative</th>\n",
       "      <th>Neutral</th>\n",
       "      <th>Positive</th>\n",
       "    </tr>\n",
       "  </thead>\n",
       "  <tbody>\n",
       "    <tr>\n",
       "      <th>0</th>\n",
       "      <td>34433.07</td>\n",
       "      <td>0.385999</td>\n",
       "      <td>0.046321</td>\n",
       "      <td>-1.0000</td>\n",
       "      <td>0.159</td>\n",
       "      <td>0.761</td>\n",
       "      <td>0.080</td>\n",
       "    </tr>\n",
       "    <tr>\n",
       "      <th>1</th>\n",
       "      <td>34503.49</td>\n",
       "      <td>0.364719</td>\n",
       "      <td>0.035556</td>\n",
       "      <td>-1.0000</td>\n",
       "      <td>0.172</td>\n",
       "      <td>0.731</td>\n",
       "      <td>0.097</td>\n",
       "    </tr>\n",
       "    <tr>\n",
       "      <th>2</th>\n",
       "      <td>34592.39</td>\n",
       "      <td>0.395696</td>\n",
       "      <td>0.042553</td>\n",
       "      <td>-1.0000</td>\n",
       "      <td>0.164</td>\n",
       "      <td>0.742</td>\n",
       "      <td>0.094</td>\n",
       "    </tr>\n",
       "    <tr>\n",
       "      <th>3</th>\n",
       "      <td>34843.51</td>\n",
       "      <td>0.400246</td>\n",
       "      <td>0.066456</td>\n",
       "      <td>-0.9999</td>\n",
       "      <td>0.153</td>\n",
       "      <td>0.739</td>\n",
       "      <td>0.108</td>\n",
       "    </tr>\n",
       "    <tr>\n",
       "      <th>4</th>\n",
       "      <td>34771.05</td>\n",
       "      <td>0.367151</td>\n",
       "      <td>0.041741</td>\n",
       "      <td>-1.0000</td>\n",
       "      <td>0.172</td>\n",
       "      <td>0.740</td>\n",
       "      <td>0.089</td>\n",
       "    </tr>\n",
       "    <tr>\n",
       "      <th>...</th>\n",
       "      <td>...</td>\n",
       "      <td>...</td>\n",
       "      <td>...</td>\n",
       "      <td>...</td>\n",
       "      <td>...</td>\n",
       "      <td>...</td>\n",
       "      <td>...</td>\n",
       "    </tr>\n",
       "    <tr>\n",
       "      <th>730</th>\n",
       "      <td>48176.80</td>\n",
       "      <td>0.400073</td>\n",
       "      <td>0.047840</td>\n",
       "      <td>-0.9999</td>\n",
       "      <td>0.143</td>\n",
       "      <td>0.789</td>\n",
       "      <td>0.069</td>\n",
       "    </tr>\n",
       "    <tr>\n",
       "      <th>731</th>\n",
       "      <td>48437.78</td>\n",
       "      <td>0.417821</td>\n",
       "      <td>0.071803</td>\n",
       "      <td>-0.9999</td>\n",
       "      <td>0.151</td>\n",
       "      <td>0.749</td>\n",
       "      <td>0.100</td>\n",
       "    </tr>\n",
       "    <tr>\n",
       "      <th>732</th>\n",
       "      <td>48174.06</td>\n",
       "      <td>0.393074</td>\n",
       "      <td>0.043358</td>\n",
       "      <td>-0.9999</td>\n",
       "      <td>0.150</td>\n",
       "      <td>0.771</td>\n",
       "      <td>0.079</td>\n",
       "    </tr>\n",
       "    <tr>\n",
       "      <th>733</th>\n",
       "      <td>48093.32</td>\n",
       "      <td>0.393661</td>\n",
       "      <td>0.036845</td>\n",
       "      <td>-0.9999</td>\n",
       "      <td>0.129</td>\n",
       "      <td>0.802</td>\n",
       "      <td>0.069</td>\n",
       "    </tr>\n",
       "    <tr>\n",
       "      <th>734</th>\n",
       "      <td>48782.51</td>\n",
       "      <td>0.384345</td>\n",
       "      <td>0.047224</td>\n",
       "      <td>-1.0000</td>\n",
       "      <td>0.167</td>\n",
       "      <td>0.771</td>\n",
       "      <td>0.063</td>\n",
       "    </tr>\n",
       "  </tbody>\n",
       "</table>\n",
       "<p>735 rows × 7 columns</p>\n",
       "</div>"
      ],
      "text/plain": [
       "        Close  Subjectivity  Polarity  Compound  Negative  Neutral  Positive\n",
       "0    34433.07      0.385999  0.046321   -1.0000     0.159    0.761     0.080\n",
       "1    34503.49      0.364719  0.035556   -1.0000     0.172    0.731     0.097\n",
       "2    34592.39      0.395696  0.042553   -1.0000     0.164    0.742     0.094\n",
       "3    34843.51      0.400246  0.066456   -0.9999     0.153    0.739     0.108\n",
       "4    34771.05      0.367151  0.041741   -1.0000     0.172    0.740     0.089\n",
       "..        ...           ...       ...       ...       ...      ...       ...\n",
       "730  48176.80      0.400073  0.047840   -0.9999     0.143    0.789     0.069\n",
       "731  48437.78      0.417821  0.071803   -0.9999     0.151    0.749     0.100\n",
       "732  48174.06      0.393074  0.043358   -0.9999     0.150    0.771     0.079\n",
       "733  48093.32      0.393661  0.036845   -0.9999     0.129    0.802     0.069\n",
       "734  48782.51      0.384345  0.047224   -1.0000     0.167    0.771     0.063\n",
       "\n",
       "[735 rows x 7 columns]"
      ]
     },
     "execution_count": 44,
     "metadata": {},
     "output_type": "execute_result"
    }
   ],
   "source": [
    "df = df_merge[['Close','Subjectivity', 'Polarity', 'Compound', 'Negative', 'Neutral' ,'Positive']]\n",
    "df"
   ]
  },
  {
   "cell_type": "code",
   "execution_count": 45,
   "id": "d92250c1",
   "metadata": {},
   "outputs": [
    {
     "data": {
      "text/html": [
       "<div>\n",
       "<style scoped>\n",
       "    .dataframe tbody tr th:only-of-type {\n",
       "        vertical-align: middle;\n",
       "    }\n",
       "\n",
       "    .dataframe tbody tr th {\n",
       "        vertical-align: top;\n",
       "    }\n",
       "\n",
       "    .dataframe thead th {\n",
       "        text-align: right;\n",
       "    }\n",
       "</style>\n",
       "<table border=\"1\" class=\"dataframe\">\n",
       "  <thead>\n",
       "    <tr style=\"text-align: right;\">\n",
       "      <th></th>\n",
       "      <th>Close</th>\n",
       "      <th>Subjectivity</th>\n",
       "      <th>Polarity</th>\n",
       "      <th>Compound</th>\n",
       "      <th>Negative</th>\n",
       "      <th>Neutral</th>\n",
       "      <th>Positive</th>\n",
       "    </tr>\n",
       "  </thead>\n",
       "  <tbody>\n",
       "    <tr>\n",
       "      <th>0</th>\n",
       "      <td>0.370674</td>\n",
       "      <td>0.377688</td>\n",
       "      <td>0.447681</td>\n",
       "      <td>0.00000</td>\n",
       "      <td>0.571429</td>\n",
       "      <td>0.383562</td>\n",
       "      <td>0.3375</td>\n",
       "    </tr>\n",
       "    <tr>\n",
       "      <th>1</th>\n",
       "      <td>0.373762</td>\n",
       "      <td>0.204467</td>\n",
       "      <td>0.362239</td>\n",
       "      <td>0.00000</td>\n",
       "      <td>0.674603</td>\n",
       "      <td>0.178082</td>\n",
       "      <td>0.5500</td>\n",
       "    </tr>\n",
       "    <tr>\n",
       "      <th>2</th>\n",
       "      <td>0.377661</td>\n",
       "      <td>0.456622</td>\n",
       "      <td>0.417777</td>\n",
       "      <td>0.00000</td>\n",
       "      <td>0.611111</td>\n",
       "      <td>0.253425</td>\n",
       "      <td>0.5125</td>\n",
       "    </tr>\n",
       "    <tr>\n",
       "      <th>3</th>\n",
       "      <td>0.388674</td>\n",
       "      <td>0.493662</td>\n",
       "      <td>0.607492</td>\n",
       "      <td>0.00005</td>\n",
       "      <td>0.523810</td>\n",
       "      <td>0.232877</td>\n",
       "      <td>0.6875</td>\n",
       "    </tr>\n",
       "    <tr>\n",
       "      <th>4</th>\n",
       "      <td>0.385497</td>\n",
       "      <td>0.224268</td>\n",
       "      <td>0.411331</td>\n",
       "      <td>0.00000</td>\n",
       "      <td>0.674603</td>\n",
       "      <td>0.239726</td>\n",
       "      <td>0.4500</td>\n",
       "    </tr>\n",
       "  </tbody>\n",
       "</table>\n",
       "</div>"
      ],
      "text/plain": [
       "      Close  Subjectivity  Polarity  Compound  Negative   Neutral  Positive\n",
       "0  0.370674      0.377688  0.447681   0.00000  0.571429  0.383562    0.3375\n",
       "1  0.373762      0.204467  0.362239   0.00000  0.674603  0.178082    0.5500\n",
       "2  0.377661      0.456622  0.417777   0.00000  0.611111  0.253425    0.5125\n",
       "3  0.388674      0.493662  0.607492   0.00005  0.523810  0.232877    0.6875\n",
       "4  0.385497      0.224268  0.411331   0.00000  0.674603  0.239726    0.4500"
      ]
     },
     "execution_count": 45,
     "metadata": {},
     "output_type": "execute_result"
    }
   ],
   "source": [
    "from sklearn.preprocessing import MinMaxScaler\n",
    "sc = MinMaxScaler()\n",
    "new_df = pd.DataFrame(sc.fit_transform(df))\n",
    "new_df.columns = df.columns\n",
    "new_df.index = df.index\n",
    "new_df.head()"
   ]
  },
  {
   "cell_type": "code",
   "execution_count": 46,
   "id": "b87bbc5b",
   "metadata": {},
   "outputs": [],
   "source": [
    "X = new_df.drop('Close', axis=1)\n",
    "y =new_df['Close']"
   ]
  },
  {
   "cell_type": "code",
   "execution_count": 47,
   "id": "d3cb7dc5",
   "metadata": {},
   "outputs": [
    {
     "data": {
      "text/html": [
       "<div>\n",
       "<style scoped>\n",
       "    .dataframe tbody tr th:only-of-type {\n",
       "        vertical-align: middle;\n",
       "    }\n",
       "\n",
       "    .dataframe tbody tr th {\n",
       "        vertical-align: top;\n",
       "    }\n",
       "\n",
       "    .dataframe thead th {\n",
       "        text-align: right;\n",
       "    }\n",
       "</style>\n",
       "<table border=\"1\" class=\"dataframe\">\n",
       "  <thead>\n",
       "    <tr style=\"text-align: right;\">\n",
       "      <th></th>\n",
       "      <th>Subjectivity</th>\n",
       "      <th>Polarity</th>\n",
       "      <th>Compound</th>\n",
       "      <th>Negative</th>\n",
       "      <th>Neutral</th>\n",
       "      <th>Positive</th>\n",
       "    </tr>\n",
       "  </thead>\n",
       "  <tbody>\n",
       "    <tr>\n",
       "      <th>0</th>\n",
       "      <td>0.377688</td>\n",
       "      <td>0.447681</td>\n",
       "      <td>0.00000</td>\n",
       "      <td>0.571429</td>\n",
       "      <td>0.383562</td>\n",
       "      <td>0.3375</td>\n",
       "    </tr>\n",
       "    <tr>\n",
       "      <th>1</th>\n",
       "      <td>0.204467</td>\n",
       "      <td>0.362239</td>\n",
       "      <td>0.00000</td>\n",
       "      <td>0.674603</td>\n",
       "      <td>0.178082</td>\n",
       "      <td>0.5500</td>\n",
       "    </tr>\n",
       "    <tr>\n",
       "      <th>2</th>\n",
       "      <td>0.456622</td>\n",
       "      <td>0.417777</td>\n",
       "      <td>0.00000</td>\n",
       "      <td>0.611111</td>\n",
       "      <td>0.253425</td>\n",
       "      <td>0.5125</td>\n",
       "    </tr>\n",
       "    <tr>\n",
       "      <th>3</th>\n",
       "      <td>0.493662</td>\n",
       "      <td>0.607492</td>\n",
       "      <td>0.00005</td>\n",
       "      <td>0.523810</td>\n",
       "      <td>0.232877</td>\n",
       "      <td>0.6875</td>\n",
       "    </tr>\n",
       "    <tr>\n",
       "      <th>4</th>\n",
       "      <td>0.224268</td>\n",
       "      <td>0.411331</td>\n",
       "      <td>0.00000</td>\n",
       "      <td>0.674603</td>\n",
       "      <td>0.239726</td>\n",
       "      <td>0.4500</td>\n",
       "    </tr>\n",
       "  </tbody>\n",
       "</table>\n",
       "</div>"
      ],
      "text/plain": [
       "   Subjectivity  Polarity  Compound  Negative   Neutral  Positive\n",
       "0      0.377688  0.447681   0.00000  0.571429  0.383562    0.3375\n",
       "1      0.204467  0.362239   0.00000  0.674603  0.178082    0.5500\n",
       "2      0.456622  0.417777   0.00000  0.611111  0.253425    0.5125\n",
       "3      0.493662  0.607492   0.00005  0.523810  0.232877    0.6875\n",
       "4      0.224268  0.411331   0.00000  0.674603  0.239726    0.4500"
      ]
     },
     "execution_count": 47,
     "metadata": {},
     "output_type": "execute_result"
    }
   ],
   "source": [
    "X.head()"
   ]
  },
  {
   "cell_type": "code",
   "execution_count": 48,
   "id": "b3404f56",
   "metadata": {},
   "outputs": [
    {
     "data": {
      "text/plain": [
       "(588, 6)"
      ]
     },
     "execution_count": 48,
     "metadata": {},
     "output_type": "execute_result"
    }
   ],
   "source": [
    "x_train, x_test, y_train, y_test = train_test_split(X, y, test_size=0.2, random_state = 0)\n",
    "x_train.shape"
   ]
  },
  {
   "cell_type": "code",
   "execution_count": 49,
   "id": "73d9029b",
   "metadata": {},
   "outputs": [
    {
     "data": {
      "text/html": [
       "<div>\n",
       "<style scoped>\n",
       "    .dataframe tbody tr th:only-of-type {\n",
       "        vertical-align: middle;\n",
       "    }\n",
       "\n",
       "    .dataframe tbody tr th {\n",
       "        vertical-align: top;\n",
       "    }\n",
       "\n",
       "    .dataframe thead th {\n",
       "        text-align: right;\n",
       "    }\n",
       "</style>\n",
       "<table border=\"1\" class=\"dataframe\">\n",
       "  <thead>\n",
       "    <tr style=\"text-align: right;\">\n",
       "      <th></th>\n",
       "      <th>Subjectivity</th>\n",
       "      <th>Polarity</th>\n",
       "      <th>Compound</th>\n",
       "      <th>Negative</th>\n",
       "      <th>Neutral</th>\n",
       "      <th>Positive</th>\n",
       "    </tr>\n",
       "  </thead>\n",
       "  <tbody>\n",
       "    <tr>\n",
       "      <th>97</th>\n",
       "      <td>0.296734</td>\n",
       "      <td>0.690708</td>\n",
       "      <td>0.00005</td>\n",
       "      <td>0.587302</td>\n",
       "      <td>0.253425</td>\n",
       "      <td>0.5500</td>\n",
       "    </tr>\n",
       "    <tr>\n",
       "      <th>503</th>\n",
       "      <td>0.367155</td>\n",
       "      <td>0.440793</td>\n",
       "      <td>0.00000</td>\n",
       "      <td>0.825397</td>\n",
       "      <td>0.123288</td>\n",
       "      <td>0.4125</td>\n",
       "    </tr>\n",
       "    <tr>\n",
       "      <th>644</th>\n",
       "      <td>0.553472</td>\n",
       "      <td>0.776355</td>\n",
       "      <td>0.00005</td>\n",
       "      <td>0.619048</td>\n",
       "      <td>0.253425</td>\n",
       "      <td>0.5000</td>\n",
       "    </tr>\n",
       "    <tr>\n",
       "      <th>498</th>\n",
       "      <td>0.295462</td>\n",
       "      <td>0.543283</td>\n",
       "      <td>0.00005</td>\n",
       "      <td>0.619048</td>\n",
       "      <td>0.294521</td>\n",
       "      <td>0.4250</td>\n",
       "    </tr>\n",
       "    <tr>\n",
       "      <th>303</th>\n",
       "      <td>0.315457</td>\n",
       "      <td>0.093964</td>\n",
       "      <td>0.00000</td>\n",
       "      <td>0.746032</td>\n",
       "      <td>0.232877</td>\n",
       "      <td>0.3375</td>\n",
       "    </tr>\n",
       "    <tr>\n",
       "      <th>572</th>\n",
       "      <td>0.250614</td>\n",
       "      <td>0.577728</td>\n",
       "      <td>0.00010</td>\n",
       "      <td>0.285714</td>\n",
       "      <td>0.684932</td>\n",
       "      <td>0.2375</td>\n",
       "    </tr>\n",
       "    <tr>\n",
       "      <th>250</th>\n",
       "      <td>0.505627</td>\n",
       "      <td>0.332856</td>\n",
       "      <td>0.00005</td>\n",
       "      <td>0.777778</td>\n",
       "      <td>0.102740</td>\n",
       "      <td>0.5250</td>\n",
       "    </tr>\n",
       "    <tr>\n",
       "      <th>17</th>\n",
       "      <td>0.741960</td>\n",
       "      <td>0.590124</td>\n",
       "      <td>0.00005</td>\n",
       "      <td>0.531746</td>\n",
       "      <td>0.171233</td>\n",
       "      <td>0.7875</td>\n",
       "    </tr>\n",
       "    <tr>\n",
       "      <th>597</th>\n",
       "      <td>0.505794</td>\n",
       "      <td>0.264424</td>\n",
       "      <td>0.00005</td>\n",
       "      <td>0.436508</td>\n",
       "      <td>0.609589</td>\n",
       "      <td>0.1250</td>\n",
       "    </tr>\n",
       "    <tr>\n",
       "      <th>240</th>\n",
       "      <td>0.551062</td>\n",
       "      <td>0.347653</td>\n",
       "      <td>0.00010</td>\n",
       "      <td>0.325397</td>\n",
       "      <td>0.719178</td>\n",
       "      <td>0.1125</td>\n",
       "    </tr>\n",
       "  </tbody>\n",
       "</table>\n",
       "</div>"
      ],
      "text/plain": [
       "     Subjectivity  Polarity  Compound  Negative   Neutral  Positive\n",
       "97       0.296734  0.690708   0.00005  0.587302  0.253425    0.5500\n",
       "503      0.367155  0.440793   0.00000  0.825397  0.123288    0.4125\n",
       "644      0.553472  0.776355   0.00005  0.619048  0.253425    0.5000\n",
       "498      0.295462  0.543283   0.00005  0.619048  0.294521    0.4250\n",
       "303      0.315457  0.093964   0.00000  0.746032  0.232877    0.3375\n",
       "572      0.250614  0.577728   0.00010  0.285714  0.684932    0.2375\n",
       "250      0.505627  0.332856   0.00005  0.777778  0.102740    0.5250\n",
       "17       0.741960  0.590124   0.00005  0.531746  0.171233    0.7875\n",
       "597      0.505794  0.264424   0.00005  0.436508  0.609589    0.1250\n",
       "240      0.551062  0.347653   0.00010  0.325397  0.719178    0.1125"
      ]
     },
     "execution_count": 49,
     "metadata": {},
     "output_type": "execute_result"
    }
   ],
   "source": [
    "x_train[:10]"
   ]
  },
  {
   "cell_type": "markdown",
   "id": "eb8e5aee",
   "metadata": {},
   "source": [
    "Computing the prediction of the hybrid model by using Random Forest Regressor,Adaboost Forest Regressor, Decision Tree \n",
    "Regressor, LightGBM and Xgboost techniques and finding the technique that has the minimum mean squared error.\n"
   ]
  },
  {
   "cell_type": "code",
   "execution_count": 50,
   "id": "d62a4dcb",
   "metadata": {},
   "outputs": [],
   "source": [
    "rf = RandomForestRegressor()\n",
    "rf.fit(x_train, y_train)\n",
    "prediction=rf.predict(x_test)"
   ]
  },
  {
   "cell_type": "code",
   "execution_count": 51,
   "id": "625fc0b4",
   "metadata": {},
   "outputs": [
    {
     "name": "stdout",
     "output_type": "stream",
     "text": [
      "[0.4463071  0.49373127 0.40132229 0.44441791 0.61675903 0.52095891\n",
      " 0.60036083 0.50298567 0.54843511 0.57564383]\n",
      "196    0.354636\n",
      "187    0.389621\n",
      "14     0.437861\n",
      "31     0.371230\n",
      "390    0.498617\n",
      "319    0.553438\n",
      "299    0.573451\n",
      "719    0.917015\n",
      "462    0.649014\n",
      "27     0.338681\n",
      "Name: Close, dtype: float64\n",
      "0.01946292845677726\n"
     ]
    }
   ],
   "source": [
    "print(prediction[:10])\n",
    "print(y_test[:10])\n",
    "print(mean_squared_error(prediction,y_test))"
   ]
  },
  {
   "cell_type": "code",
   "execution_count": 52,
   "id": "2fd42282",
   "metadata": {},
   "outputs": [],
   "source": [
    "adb = AdaBoostRegressor()\n",
    "adb.fit(x_train, y_train)\n",
    "predictions = adb.predict(x_test)"
   ]
  },
  {
   "cell_type": "code",
   "execution_count": 53,
   "id": "48b291a5",
   "metadata": {},
   "outputs": [
    {
     "name": "stdout",
     "output_type": "stream",
     "text": [
      "0.023601545545726434\n"
     ]
    }
   ],
   "source": [
    "print(mean_squared_error(predictions, y_test))"
   ]
  },
  {
   "cell_type": "code",
   "execution_count": 54,
   "id": "849e4273",
   "metadata": {},
   "outputs": [],
   "source": [
    "from sklearn.tree import DecisionTreeRegressor\n",
    "dec_tree = DecisionTreeRegressor()\n",
    "dec_tree.fit(x_train, y_train)\n",
    "predictions = dec_tree.predict(x_test)"
   ]
  },
  {
   "cell_type": "code",
   "execution_count": 55,
   "id": "fb3c283a",
   "metadata": {},
   "outputs": [
    {
     "name": "stdout",
     "output_type": "stream",
     "text": [
      "[0.41939331 0.50893086 0.53964143 0.50764365 0.98488111 0.48829035\n",
      " 0.51544673 0.67288226 0.60093363 0.62534411]\n",
      "196    0.354636\n",
      "187    0.389621\n",
      "14     0.437861\n",
      "31     0.371230\n",
      "390    0.498617\n",
      "319    0.553438\n",
      "299    0.573451\n",
      "719    0.917015\n",
      "462    0.649014\n",
      "27     0.338681\n",
      "Name: Close, dtype: float64\n",
      "0.037696735255026495\n"
     ]
    }
   ],
   "source": [
    "print(predictions[:10])\n",
    "print(y_test[:10])\n",
    "print(mean_squared_error(predictions,y_test))"
   ]
  },
  {
   "cell_type": "code",
   "execution_count": 56,
   "id": "7cc4863c",
   "metadata": {},
   "outputs": [
    {
     "data": {
      "text/plain": [
       "LGBMRegressor()"
      ]
     },
     "execution_count": 56,
     "metadata": {},
     "output_type": "execute_result"
    }
   ],
   "source": [
    "lgb = lightgbm.LGBMRegressor()\n",
    "lgb.fit(x_train, y_train)"
   ]
  },
  {
   "cell_type": "code",
   "execution_count": 57,
   "id": "e05c6cfd",
   "metadata": {},
   "outputs": [
    {
     "name": "stdout",
     "output_type": "stream",
     "text": [
      "0.02114777644780174\n"
     ]
    }
   ],
   "source": [
    "predictions = lgb.predict(x_test)\n",
    "print(mean_squared_error(predictions,y_test))"
   ]
  },
  {
   "cell_type": "code",
   "execution_count": 58,
   "id": "b5626de7",
   "metadata": {},
   "outputs": [
    {
     "data": {
      "text/plain": [
       "XGBRegressor(base_score=0.5, booster='gbtree', callbacks=None,\n",
       "             colsample_bylevel=1, colsample_bynode=1, colsample_bytree=1,\n",
       "             early_stopping_rounds=None, enable_categorical=False,\n",
       "             eval_metric=None, feature_types=None, gamma=0, gpu_id=-1,\n",
       "             grow_policy='depthwise', importance_type=None,\n",
       "             interaction_constraints='', learning_rate=0.300000012, max_bin=256,\n",
       "             max_cat_threshold=64, max_cat_to_onehot=4, max_delta_step=0,\n",
       "             max_depth=6, max_leaves=0, min_child_weight=1, missing=nan,\n",
       "             monotone_constraints='()', n_estimators=100, n_jobs=0,\n",
       "             num_parallel_tree=1, predictor='auto', random_state=0, ...)"
      ]
     },
     "execution_count": 58,
     "metadata": {},
     "output_type": "execute_result"
    }
   ],
   "source": [
    "xgb = xgboost.XGBRegressor()\n",
    "xgb.fit(x_train, y_train)"
   ]
  },
  {
   "cell_type": "code",
   "execution_count": 59,
   "id": "0fa034b8",
   "metadata": {},
   "outputs": [
    {
     "name": "stdout",
     "output_type": "stream",
     "text": [
      "0.023020821461831927\n"
     ]
    }
   ],
   "source": [
    "predictions = xgb.predict(x_test)\n",
    "print(mean_squared_error(predictions,y_test))"
   ]
  },
  {
   "cell_type": "markdown",
   "id": "00e2f8c8",
   "metadata": {},
   "source": [
    "Form all the above techniques we find that Xgboost has the minimnum Mean Squared Error.\n"
   ]
  }
 ],
 "metadata": {
  "kernelspec": {
   "display_name": "Python 3 (ipykernel)",
   "language": "python",
   "name": "python3"
  },
  "language_info": {
   "codemirror_mode": {
    "name": "ipython",
    "version": 3
   },
   "file_extension": ".py",
   "mimetype": "text/x-python",
   "name": "python",
   "nbconvert_exporter": "python",
   "pygments_lexer": "ipython3",
   "version": "3.9.12"
  }
 },
 "nbformat": 4,
 "nbformat_minor": 5
}
